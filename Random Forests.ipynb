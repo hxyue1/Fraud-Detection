{
 "cells": [
  {
   "cell_type": "code",
   "execution_count": 1,
   "metadata": {},
   "outputs": [],
   "source": [
    "import pandas as pd\n",
    "import numpy as np\n",
    "train_identity = pd.read_csv('Data/train_identity.csv')\n",
    "train_transaction = pd.read_csv('Data/train_transaction.csv')"
   ]
  },
  {
   "cell_type": "code",
   "execution_count": 2,
   "metadata": {},
   "outputs": [],
   "source": [
    "#Storing variable names\n",
    "identity_vars = list(train_identity)\n",
    "transaction_vars = list(train_transaction)\n",
    "\n",
    "#Storing id, fraud and separating from explanatory variables\n",
    "trans_id = train_transaction['TransactionID']\n",
    "fraud = train_transaction['isFraud']\n",
    "x_trans = train_transaction.drop(['TransactionID','isFraud'],axis=1)"
   ]
  },
  {
   "cell_type": "code",
   "execution_count": 3,
   "metadata": {},
   "outputs": [],
   "source": [
    "#Getting dummies from strings\n",
    "strings = train_transaction.select_dtypes(include='object')\n",
    "numerics = train_transaction.select_dtypes(exclude='object')\n",
    "dummies = pd.get_dummies(strings)\n",
    "x_trans = pd.concat([dummies, numerics],axis=1)\n",
    "x_trans = x_trans.drop(['TransactionID','isFraud'],axis=1)"
   ]
  },
  {
   "cell_type": "code",
   "execution_count": 4,
   "metadata": {},
   "outputs": [],
   "source": [
    "#Getting a count of NaNs\n",
    "transaction_na_count = x_trans.isnull().sum()\n",
    "transaction_na_prop = x_trans.isnull().sum()/x_trans.shape[0]*100\n",
    "transaction_na = pd.concat([transaction_na_count, transaction_na_prop], axis=1)\n",
    "transaction_na.columns = ['Count','Percentage']"
   ]
  },
  {
   "cell_type": "code",
   "execution_count": 5,
   "metadata": {},
   "outputs": [
    {
     "name": "stdout",
     "output_type": "stream",
     "text": [
      "V257           0.262946\n",
      "V246           0.251838\n",
      "V244           0.249951\n",
      "V242           0.247522\n",
      "V45            0.236688\n",
      "V201           0.234520\n",
      "V200           0.227926\n",
      "V86            0.224530\n",
      "V87            0.224450\n",
      "V189           0.220374\n",
      "V44            0.218669\n",
      "V188           0.217058\n",
      "V258           0.203975\n",
      "V52            0.201111\n",
      "V51            0.187440\n",
      "V228           0.184556\n",
      "V170           0.178601\n",
      "V40            0.178413\n",
      "V79            0.173097\n",
      "V39            0.170565\n",
      "V94            0.167984\n",
      "V38            0.167128\n",
      "V43            0.166514\n",
      "V33            0.165534\n",
      "V199           0.164959\n",
      "V17            0.164800\n",
      "V18            0.164689\n",
      "V74            0.164684\n",
      "V34            0.162660\n",
      "V81            0.162608\n",
      "                 ...   \n",
      "M8_F           0.043108\n",
      "V75            0.046516\n",
      "D5             0.046812\n",
      "V12            0.047279\n",
      "M6_F           0.048760\n",
      "D2             0.051839\n",
      "D4             0.056450\n",
      "V36            0.058682\n",
      "D7             0.063238\n",
      "M7_F           0.063570\n",
      "V35            0.064763\n",
      "D10            0.064959\n",
      "D1             0.067118\n",
      "M6_T           0.068134\n",
      "M9_T           0.068434\n",
      "D15            0.069117\n",
      "M3_T           0.084136\n",
      "D8             0.084568\n",
      "M2_T           0.089079\n",
      "V70            0.089377\n",
      "M1_T           0.089400\n",
      "V69            0.092584\n",
      "V30            0.093002\n",
      "V49            0.093153\n",
      "V91            0.094022\n",
      "V48            0.097239\n",
      "V29            0.097299\n",
      "V90            0.098226\n",
      "card6_debit    0.099779\n",
      "ProductCD_W    0.135549\n",
      "Length: 529, dtype: float64\n"
     ]
    }
   ],
   "source": [
    "#Filling nas with mean and calculating correlations with dependent variable\n",
    "x_trans = x_trans.fillna(x_trans.mean())\n",
    "corrs = x_trans.corrwith(fraud)\n",
    "corrs = abs(corrs.sort_values(ascending=False))\n",
    "print(corrs)"
   ]
  },
  {
   "cell_type": "markdown",
   "metadata": {},
   "source": [
    "So in this notebook we're going to play around with the random forest classifier. This will be my first time using it, so hopefully things go well. I will also work on a random subset of data (<20%) to speed up computation time. "
   ]
  },
  {
   "cell_type": "code",
   "execution_count": 6,
   "metadata": {},
   "outputs": [],
   "source": [
    "from sklearn.ensemble import RandomForestClassifier as RFC\n",
    "from sklearn.metrics import roc_auc_score\n",
    "from sklearn import model_selection as ms\n",
    "from sklearn.metrics import make_scorer"
   ]
  },
  {
   "cell_type": "markdown",
   "metadata": {},
   "source": [
    "Initial evaluation with all default settings"
   ]
  },
  {
   "cell_type": "code",
   "execution_count": 7,
   "metadata": {},
   "outputs": [
    {
     "name": "stdout",
     "output_type": "stream",
     "text": [
      "        isFraud  ProductCD_C  ProductCD_H  ProductCD_R  ProductCD_S  \\\n",
      "0             0            0            0            0            0   \n",
      "1             0            0            0            0            0   \n",
      "2             0            0            0            0            0   \n",
      "3             0            0            0            0            0   \n",
      "4             0            0            1            0            0   \n",
      "5             0            0            0            0            0   \n",
      "6             0            0            0            0            0   \n",
      "7             0            0            0            0            0   \n",
      "8             0            0            1            0            0   \n",
      "9             0            0            0            0            0   \n",
      "10            0            1            0            0            0   \n",
      "11            0            1            0            0            0   \n",
      "12            0            0            0            0            0   \n",
      "13            0            0            0            0            0   \n",
      "14            0            0            0            0            0   \n",
      "15            0            0            0            0            0   \n",
      "16            0            0            1            0            0   \n",
      "17            0            0            1            0            0   \n",
      "18            0            0            0            0            0   \n",
      "19            0            0            0            0            0   \n",
      "20            0            0            0            0            0   \n",
      "21            0            0            0            0            0   \n",
      "22            0            0            1            0            0   \n",
      "23            0            0            0            0            0   \n",
      "24            0            0            0            0            0   \n",
      "25            0            0            0            0            0   \n",
      "26            0            0            0            0            0   \n",
      "27            0            0            0            0            0   \n",
      "28            0            0            0            0            0   \n",
      "29            0            0            0            0            0   \n",
      "...         ...          ...          ...          ...          ...   \n",
      "590510        0            0            0            0            0   \n",
      "590511        0            0            0            0            0   \n",
      "590512        0            0            0            0            0   \n",
      "590513        0            0            0            0            0   \n",
      "590514        0            0            0            0            0   \n",
      "590515        0            0            0            0            0   \n",
      "590516        0            0            0            0            0   \n",
      "590517        0            0            0            0            0   \n",
      "590518        0            0            0            0            0   \n",
      "590519        0            0            0            0            0   \n",
      "590520        0            0            0            0            0   \n",
      "590521        0            1            0            0            0   \n",
      "590522        0            0            0            0            0   \n",
      "590523        0            0            0            0            0   \n",
      "590524        0            0            0            0            0   \n",
      "590525        0            0            0            0            0   \n",
      "590526        1            0            0            1            0   \n",
      "590527        0            0            0            0            0   \n",
      "590528        0            0            0            0            0   \n",
      "590529        0            1            0            0            0   \n",
      "590530        0            0            0            0            0   \n",
      "590531        0            0            0            1            0   \n",
      "590532        0            0            0            0            0   \n",
      "590533        0            0            0            0            0   \n",
      "590534        0            1            0            0            0   \n",
      "590535        0            0            0            0            0   \n",
      "590536        0            0            0            0            0   \n",
      "590537        0            0            0            0            0   \n",
      "590538        0            0            0            0            0   \n",
      "590539        0            0            0            0            0   \n",
      "\n",
      "        ProductCD_W  card4_american express  card4_discover  card4_mastercard  \\\n",
      "0                 1                       0               1                 0   \n",
      "1                 1                       0               0                 1   \n",
      "2                 1                       0               0                 0   \n",
      "3                 1                       0               0                 1   \n",
      "4                 0                       0               0                 1   \n",
      "5                 1                       0               0                 0   \n",
      "6                 1                       0               0                 0   \n",
      "7                 1                       0               0                 0   \n",
      "8                 0                       0               0                 0   \n",
      "9                 1                       0               0                 1   \n",
      "10                0                       0               0                 1   \n",
      "11                0                       0               0                 1   \n",
      "12                1                       0               0                 0   \n",
      "13                1                       0               0                 0   \n",
      "14                1                       0               0                 0   \n",
      "15                1                       0               0                 0   \n",
      "16                0                       0               0                 0   \n",
      "17                0                       0               0                 1   \n",
      "18                1                       0               0                 0   \n",
      "19                1                       0               0                 0   \n",
      "20                1                       0               0                 1   \n",
      "21                1                       0               0                 1   \n",
      "22                0                       0               0                 0   \n",
      "23                1                       0               0                 1   \n",
      "24                1                       0               0                 0   \n",
      "25                1                       0               0                 1   \n",
      "26                1                       0               0                 0   \n",
      "27                1                       0               0                 0   \n",
      "28                1                       0               0                 1   \n",
      "29                1                       0               0                 0   \n",
      "...             ...                     ...             ...               ...   \n",
      "590510            1                       0               0                 0   \n",
      "590511            1                       0               0                 0   \n",
      "590512            1                       0               0                 0   \n",
      "590513            1                       0               0                 0   \n",
      "590514            1                       0               0                 0   \n",
      "590515            1                       0               0                 0   \n",
      "590516            1                       0               0                 0   \n",
      "590517            1                       0               0                 0   \n",
      "590518            1                       0               0                 0   \n",
      "590519            1                       0               0                 1   \n",
      "590520            1                       0               0                 0   \n",
      "590521            0                       0               0                 1   \n",
      "590522            1                       0               0                 0   \n",
      "590523            1                       0               0                 1   \n",
      "590524            1                       0               0                 1   \n",
      "590525            1                       0               0                 0   \n",
      "590526            0                       0               0                 0   \n",
      "590527            1                       0               0                 0   \n",
      "590528            1                       0               0                 1   \n",
      "590529            0                       0               0                 1   \n",
      "590530            1                       0               0                 1   \n",
      "590531            0                       0               0                 0   \n",
      "590532            1                       0               0                 1   \n",
      "590533            1                       0               0                 0   \n",
      "590534            0                       0               0                 1   \n",
      "590535            1                       0               0                 0   \n",
      "590536            1                       0               0                 1   \n",
      "590537            1                       0               0                 1   \n",
      "590538            1                       0               0                 1   \n",
      "590539            1                       0               0                 1   \n",
      "\n",
      "        card4_visa  ...      V330        V331         V332         V333  \\\n",
      "0                0  ...  0.775874  721.741883  1375.783644  1014.622782   \n",
      "1                0  ...  0.775874  721.741883  1375.783644  1014.622782   \n",
      "2                1  ...  0.775874  721.741883  1375.783644  1014.622782   \n",
      "3                0  ...  0.775874  721.741883  1375.783644  1014.622782   \n",
      "4                0  ...  0.000000    0.000000     0.000000     0.000000   \n",
      "5                1  ...  0.775874  721.741883  1375.783644  1014.622782   \n",
      "6                1  ...  0.775874  721.741883  1375.783644  1014.622782   \n",
      "7                1  ...  0.775874  721.741883  1375.783644  1014.622782   \n",
      "8                1  ...  0.000000    0.000000     0.000000     0.000000   \n",
      "9                0  ...  0.775874  721.741883  1375.783644  1014.622782   \n",
      "10               0  ...  0.775874  721.741883  1375.783644  1014.622782   \n",
      "11               0  ...  0.775874  721.741883  1375.783644  1014.622782   \n",
      "12               1  ...  0.775874  721.741883  1375.783644  1014.622782   \n",
      "13               1  ...  0.775874  721.741883  1375.783644  1014.622782   \n",
      "14               1  ...  0.775874  721.741883  1375.783644  1014.622782   \n",
      "15               1  ...  0.775874  721.741883  1375.783644  1014.622782   \n",
      "16               1  ...  0.000000    0.000000     0.000000     0.000000   \n",
      "17               0  ...  0.000000    0.000000     0.000000     0.000000   \n",
      "18               1  ...  0.775874  721.741883  1375.783644  1014.622782   \n",
      "19               1  ...  0.775874  721.741883  1375.783644  1014.622782   \n",
      "20               0  ...  0.775874  721.741883  1375.783644  1014.622782   \n",
      "21               0  ...  0.775874  721.741883  1375.783644  1014.622782   \n",
      "22               1  ...  0.000000    0.000000     0.000000     0.000000   \n",
      "23               0  ...  0.775874  721.741883  1375.783644  1014.622782   \n",
      "24               1  ...  0.775874  721.741883  1375.783644  1014.622782   \n",
      "25               0  ...  0.775874  721.741883  1375.783644  1014.622782   \n",
      "26               1  ...  0.775874  721.741883  1375.783644  1014.622782   \n",
      "27               1  ...  0.775874  721.741883  1375.783644  1014.622782   \n",
      "28               0  ...  0.775874  721.741883  1375.783644  1014.622782   \n",
      "29               1  ...  0.775874  721.741883  1375.783644  1014.622782   \n",
      "...            ...  ...       ...         ...          ...          ...   \n",
      "590510           1  ...  0.775874  721.741883  1375.783644  1014.622782   \n",
      "590511           1  ...  0.775874  721.741883  1375.783644  1014.622782   \n",
      "590512           1  ...  0.775874  721.741883  1375.783644  1014.622782   \n",
      "590513           1  ...  0.775874  721.741883  1375.783644  1014.622782   \n",
      "590514           1  ...  0.775874  721.741883  1375.783644  1014.622782   \n",
      "590515           1  ...  0.775874  721.741883  1375.783644  1014.622782   \n",
      "590516           1  ...  0.775874  721.741883  1375.783644  1014.622782   \n",
      "590517           1  ...  0.775874  721.741883  1375.783644  1014.622782   \n",
      "590518           1  ...  0.775874  721.741883  1375.783644  1014.622782   \n",
      "590519           0  ...  0.775874  721.741883  1375.783644  1014.622782   \n",
      "590520           1  ...  0.775874  721.741883  1375.783644  1014.622782   \n",
      "590521           0  ...  0.775874  721.741883  1375.783644  1014.622782   \n",
      "590522           1  ...  0.775874  721.741883  1375.783644  1014.622782   \n",
      "590523           0  ...  0.775874  721.741883  1375.783644  1014.622782   \n",
      "590524           0  ...  0.775874  721.741883  1375.783644  1014.622782   \n",
      "590525           1  ...  0.775874  721.741883  1375.783644  1014.622782   \n",
      "590526           1  ...  0.000000    0.000000     0.000000     0.000000   \n",
      "590527           1  ...  0.775874  721.741883  1375.783644  1014.622782   \n",
      "590528           0  ...  0.775874  721.741883  1375.783644  1014.622782   \n",
      "590529           0  ...  0.775874  721.741883  1375.783644  1014.622782   \n",
      "590530           0  ...  0.775874  721.741883  1375.783644  1014.622782   \n",
      "590531           1  ...  0.000000    0.000000     0.000000     0.000000   \n",
      "590532           0  ...  0.775874  721.741883  1375.783644  1014.622782   \n",
      "590533           1  ...  0.775874  721.741883  1375.783644  1014.622782   \n",
      "590534           0  ...  0.775874  721.741883  1375.783644  1014.622782   \n",
      "590535           1  ...  0.775874  721.741883  1375.783644  1014.622782   \n",
      "590536           0  ...  0.775874  721.741883  1375.783644  1014.622782   \n",
      "590537           0  ...  0.775874  721.741883  1375.783644  1014.622782   \n",
      "590538           0  ...  0.775874  721.741883  1375.783644  1014.622782   \n",
      "590539           0  ...  0.775874  721.741883  1375.783644  1014.622782   \n",
      "\n",
      "            V334      V335       V336       V337        V338        V339  \n",
      "0       9.807015  59.16455  28.530903  55.352422  151.160542  100.700882  \n",
      "1       9.807015  59.16455  28.530903  55.352422  151.160542  100.700882  \n",
      "2       9.807015  59.16455  28.530903  55.352422  151.160542  100.700882  \n",
      "3       9.807015  59.16455  28.530903  55.352422  151.160542  100.700882  \n",
      "4       0.000000   0.00000   0.000000   0.000000    0.000000    0.000000  \n",
      "5       9.807015  59.16455  28.530903  55.352422  151.160542  100.700882  \n",
      "6       9.807015  59.16455  28.530903  55.352422  151.160542  100.700882  \n",
      "7       9.807015  59.16455  28.530903  55.352422  151.160542  100.700882  \n",
      "8       0.000000   0.00000   0.000000   0.000000    0.000000    0.000000  \n",
      "9       9.807015  59.16455  28.530903  55.352422  151.160542  100.700882  \n",
      "10      9.807015  59.16455  28.530903  55.352422  151.160542  100.700882  \n",
      "11      9.807015  59.16455  28.530903  55.352422  151.160542  100.700882  \n",
      "12      9.807015  59.16455  28.530903  55.352422  151.160542  100.700882  \n",
      "13      9.807015  59.16455  28.530903  55.352422  151.160542  100.700882  \n",
      "14      9.807015  59.16455  28.530903  55.352422  151.160542  100.700882  \n",
      "15      9.807015  59.16455  28.530903  55.352422  151.160542  100.700882  \n",
      "16      0.000000   0.00000   0.000000   0.000000    0.000000    0.000000  \n",
      "17      0.000000   0.00000   0.000000   0.000000    0.000000    0.000000  \n",
      "18      9.807015  59.16455  28.530903  55.352422  151.160542  100.700882  \n",
      "19      9.807015  59.16455  28.530903  55.352422  151.160542  100.700882  \n",
      "20      9.807015  59.16455  28.530903  55.352422  151.160542  100.700882  \n",
      "21      9.807015  59.16455  28.530903  55.352422  151.160542  100.700882  \n",
      "22      0.000000   0.00000   0.000000   0.000000    0.000000    0.000000  \n",
      "23      9.807015  59.16455  28.530903  55.352422  151.160542  100.700882  \n",
      "24      9.807015  59.16455  28.530903  55.352422  151.160542  100.700882  \n",
      "25      9.807015  59.16455  28.530903  55.352422  151.160542  100.700882  \n",
      "26      9.807015  59.16455  28.530903  55.352422  151.160542  100.700882  \n",
      "27      9.807015  59.16455  28.530903  55.352422  151.160542  100.700882  \n",
      "28      9.807015  59.16455  28.530903  55.352422  151.160542  100.700882  \n",
      "29      9.807015  59.16455  28.530903  55.352422  151.160542  100.700882  \n",
      "...          ...       ...        ...        ...         ...         ...  \n",
      "590510  9.807015  59.16455  28.530903  55.352422  151.160542  100.700882  \n",
      "590511  9.807015  59.16455  28.530903  55.352422  151.160542  100.700882  \n",
      "590512  9.807015  59.16455  28.530903  55.352422  151.160542  100.700882  \n",
      "590513  9.807015  59.16455  28.530903  55.352422  151.160542  100.700882  \n",
      "590514  9.807015  59.16455  28.530903  55.352422  151.160542  100.700882  \n",
      "590515  9.807015  59.16455  28.530903  55.352422  151.160542  100.700882  \n",
      "590516  9.807015  59.16455  28.530903  55.352422  151.160542  100.700882  \n",
      "590517  9.807015  59.16455  28.530903  55.352422  151.160542  100.700882  \n",
      "590518  9.807015  59.16455  28.530903  55.352422  151.160542  100.700882  \n",
      "590519  9.807015  59.16455  28.530903  55.352422  151.160542  100.700882  \n",
      "590520  9.807015  59.16455  28.530903  55.352422  151.160542  100.700882  \n",
      "590521  9.807015  59.16455  28.530903  55.352422  151.160542  100.700882  \n",
      "590522  9.807015  59.16455  28.530903  55.352422  151.160542  100.700882  \n",
      "590523  9.807015  59.16455  28.530903  55.352422  151.160542  100.700882  \n",
      "590524  9.807015  59.16455  28.530903  55.352422  151.160542  100.700882  \n",
      "590525  9.807015  59.16455  28.530903  55.352422  151.160542  100.700882  \n",
      "590526  0.000000   0.00000   0.000000   0.000000    0.000000    0.000000  \n",
      "590527  9.807015  59.16455  28.530903  55.352422  151.160542  100.700882  \n",
      "590528  9.807015  59.16455  28.530903  55.352422  151.160542  100.700882  \n",
      "590529  9.807015  59.16455  28.530903  55.352422  151.160542  100.700882  \n",
      "590530  9.807015  59.16455  28.530903  55.352422  151.160542  100.700882  \n",
      "590531  0.000000   0.00000   0.000000   0.000000    0.000000    0.000000  \n",
      "590532  9.807015  59.16455  28.530903  55.352422  151.160542  100.700882  \n",
      "590533  9.807015  59.16455  28.530903  55.352422  151.160542  100.700882  \n",
      "590534  9.807015  59.16455  28.530903  55.352422  151.160542  100.700882  \n",
      "590535  9.807015  59.16455  28.530903  55.352422  151.160542  100.700882  \n",
      "590536  9.807015  59.16455  28.530903  55.352422  151.160542  100.700882  \n",
      "590537  9.807015  59.16455  28.530903  55.352422  151.160542  100.700882  \n",
      "590538  9.807015  59.16455  28.530903  55.352422  151.160542  100.700882  \n",
      "590539  9.807015  59.16455  28.530903  55.352422  151.160542  100.700882  \n",
      "\n",
      "[590540 rows x 530 columns]\n"
     ]
    }
   ],
   "source": [
    "data = pd.concat([fraud,x_trans],axis=1)\n",
    "print(data)"
   ]
  },
  {
   "cell_type": "code",
   "execution_count": 8,
   "metadata": {},
   "outputs": [
    {
     "name": "stdout",
     "output_type": "stream",
     "text": [
      "0         0\n",
      "1         0\n",
      "2         0\n",
      "3         0\n",
      "4         0\n",
      "5         0\n",
      "6         0\n",
      "7         0\n",
      "8         0\n",
      "9         0\n",
      "10        0\n",
      "11        0\n",
      "12        0\n",
      "13        0\n",
      "14        0\n",
      "15        0\n",
      "16        0\n",
      "17        0\n",
      "18        0\n",
      "19        0\n",
      "20        0\n",
      "21        0\n",
      "22        0\n",
      "23        0\n",
      "24        0\n",
      "25        0\n",
      "26        0\n",
      "27        0\n",
      "28        0\n",
      "29        0\n",
      "         ..\n",
      "590510    0\n",
      "590511    0\n",
      "590512    0\n",
      "590513    0\n",
      "590514    0\n",
      "590515    0\n",
      "590516    0\n",
      "590517    0\n",
      "590518    0\n",
      "590519    0\n",
      "590520    0\n",
      "590521    0\n",
      "590522    0\n",
      "590523    0\n",
      "590524    0\n",
      "590525    0\n",
      "590526    1\n",
      "590527    0\n",
      "590528    0\n",
      "590529    0\n",
      "590530    0\n",
      "590531    0\n",
      "590532    0\n",
      "590533    0\n",
      "590534    0\n",
      "590535    0\n",
      "590536    0\n",
      "590537    0\n",
      "590538    0\n",
      "590539    0\n",
      "Name: isFraud, Length: 590540, dtype: int64\n"
     ]
    }
   ],
   "source": [
    "print(data.iloc[:,0])"
   ]
  },
  {
   "cell_type": "code",
   "execution_count": 9,
   "metadata": {},
   "outputs": [
    {
     "name": "stderr",
     "output_type": "stream",
     "text": [
      "/anaconda3/lib/python3.7/site-packages/sklearn/ensemble/forest.py:246: FutureWarning: The default value of n_estimators will change from 10 in version 0.20 to 100 in 0.22.\n",
      "  \"10 in version 0.20 to 100 in 0.22.\", FutureWarning)\n"
     ]
    },
    {
     "name": "stdout",
     "output_type": "stream",
     "text": [
      "0.9999188200056541\n"
     ]
    }
   ],
   "source": [
    "data_sub = data.sample(frac=0.1)\n",
    "\n",
    "fraud_RFC = RFC()\n",
    "fraud_RFC_fit = fraud_RFC.fit(X=data_sub.iloc[:,1:],y=data_sub.iloc[:,0])\n",
    "\n",
    "pred_prob = fraud_RFC_fit.predict_proba(X=data_sub.iloc[:,1:])\n",
    "sample_score = roc_auc_score(data_sub.iloc[:,0],pred_prob[:,1])\n",
    "print(sample_score)"
   ]
  },
  {
   "cell_type": "markdown",
   "metadata": {},
   "source": [
    "Obviously we're overfitting here. But it does seem to point us in the right direction, before we were underfitting, now we're overfitting. Imo, it's easier to regularise and simplify a flexible model than it is to upgrade a simple one. \n",
    "\n",
    "Let's see what the CV score is to get a feel for the out of sample roc/auc score."
   ]
  },
  {
   "cell_type": "code",
   "execution_count": 21,
   "metadata": {},
   "outputs": [
    {
     "name": "stdout",
     "output_type": "stream",
     "text": [
      "0.8723673461043703\n"
     ]
    }
   ],
   "source": [
    "data_sub = data.sample(frac=1)\n",
    "cv_preds = ms.cross_val_predict(fraud_RFC, X=data_sub.iloc[:,1:], y=data_sub.iloc[:,0], cv=3,method='predict_proba')\n",
    "cv_score = roc_auc_score(data_sub.iloc[:,0],cv_preds[:,1])\n",
    "print(cv_score)"
   ]
  },
  {
   "cell_type": "markdown",
   "metadata": {},
   "source": [
    "Let's start regularising now, starting with the number of estimators\n"
   ]
  },
  {
   "cell_type": "code",
   "execution_count": 26,
   "metadata": {
    "scrolled": true
   },
   "outputs": [
    {
     "name": "stdout",
     "output_type": "stream",
     "text": [
      "[0.7855546727975009, 0.7942716874548228, 0.8051488499909247, 0.8145309848077161, 0.8200517607573533, 0.8254809881512286, 0.8221000601832245, 0.8229247932594789, 0.8238398807798982]\n"
     ]
    }
   ],
   "source": [
    "n_estimators = [15,30,50,100,200,500,1000,2000,5000]\n",
    "data_sub = data.sample(frac=0.01)\n",
    "\n",
    "cv_scores = []\n",
    "for n in n_estimators:\n",
    "    fraud_RFC = RFC(n_estimators=n)\n",
    "    cv_preds = ms.cross_val_predict(fraud_RFC, X=data_sub.iloc[:,1:], y=data_sub.iloc[:,0], cv=3,method='predict_proba')\n",
    "    cv_score = roc_auc_score(data_sub.iloc[:,0],cv_preds[:,1])\n",
    "    cv_scores.append(cv_score)\n",
    "\n",
    "print(cv_scores)"
   ]
  },
  {
   "cell_type": "markdown",
   "metadata": {},
   "source": [
    "Benefit of additional estimators seems to taper off after around 500. We'll start tuning the other parameters as well, but I will assume that they can be tuned in parallel (at least temporarily) to reduce computational burden."
   ]
  },
  {
   "cell_type": "code",
   "execution_count": 31,
   "metadata": {},
   "outputs": [
    {
     "name": "stdout",
     "output_type": "stream",
     "text": [
      "[0.8709675864714834, 0.8725975663472798, 0.8748197621951953, 0.8758425734285644, 0.8770501349457891, 0.8779217146894642, 0.8770893493756097, 0.877948696299363, 0.877764457885277, 0.880177229789089, 0.8809409438234813, 0.8784754493333821, 0.8784669427518689, 0.8804884986636685, 0.8777492319285656]\n"
     ]
    }
   ],
   "source": [
    "max_depth = np.arange(15,30)\n",
    "data_sub = data.sample(frac=0.1)\n",
    "\n",
    "cv_scores = []\n",
    "for max_d in max_depth:\n",
    "    fraud_RFC = RFC(n_estimators=200, max_depth=max_d)\n",
    "    cv_preds = ms.cross_val_predict(fraud_RFC, X=data_sub.iloc[:,1:], y=data_sub.iloc[:,0], cv=3,method='predict_proba')\n",
    "    cv_score = roc_auc_score(data_sub.iloc[:,0],cv_preds[:,1])\n",
    "    cv_scores.append(cv_score)\n",
    "\n",
    "print(cv_scores)"
   ]
  },
  {
   "cell_type": "markdown",
   "metadata": {},
   "source": [
    "Seems that about 20-25 is the optimal max depth for each of the trees in the RF model. Let's make predictions on the test set and make an initial submission to Kaggle. Then we'll consider tuning the other hyperparameters with a bit more precision."
   ]
  },
  {
   "cell_type": "code",
   "execution_count": 51,
   "metadata": {},
   "outputs": [],
   "source": [
    "test_transaction = pd.read_csv('Data/test_transaction.csv')"
   ]
  },
  {
   "cell_type": "code",
   "execution_count": 52,
   "metadata": {},
   "outputs": [],
   "source": [
    "test_transaction = test_transaction.drop(['TransactionID'],axis=1)\n",
    "strings = test_transaction.select_dtypes(include='object')\n",
    "numerics = test_transaction.select_dtypes(exclude='object')\n",
    "dummies = pd.get_dummies(strings)\n",
    "test_x_trans = pd.concat([dummies, numerics],axis=1)\n",
    "test_x_trans = test_x_trans.drop(['P_emaildomain_scranton.edu'],axis=1) "
   ]
  },
  {
   "cell_type": "code",
   "execution_count": 59,
   "metadata": {},
   "outputs": [],
   "source": [
    "debit_credit = pd.Series(0, index=range(506691))\n",
    "test_x_trans['card6_debit or credit'] = debit_credit\n",
    "test_x_trans = test_x_trans[x_trans.columns]"
   ]
  },
  {
   "cell_type": "code",
   "execution_count": 65,
   "metadata": {},
   "outputs": [],
   "source": [
    "test_x_trans = test_x_trans.fillna(test_x_trans.mean())"
   ]
  },
  {
   "cell_type": "code",
   "execution_count": 13,
   "metadata": {},
   "outputs": [
    {
     "ename": "ValueError",
     "evalue": "Number of features of the model must match the input. Model n_features is 529 and input n_features is 530 ",
     "output_type": "error",
     "traceback": [
      "\u001b[0;31m---------------------------------------------------------------------------\u001b[0m",
      "\u001b[0;31mValueError\u001b[0m                                Traceback (most recent call last)",
      "\u001b[0;32m<ipython-input-13-ea7e68370b52>\u001b[0m in \u001b[0;36m<module>\u001b[0;34m\u001b[0m\n\u001b[1;32m      2\u001b[0m \u001b[0mfraud_RFC\u001b[0m \u001b[0;34m=\u001b[0m \u001b[0mRFC\u001b[0m\u001b[0;34m(\u001b[0m\u001b[0mn_estimators\u001b[0m\u001b[0;34m=\u001b[0m\u001b[0;36m500\u001b[0m\u001b[0;34m,\u001b[0m \u001b[0mmax_depth\u001b[0m\u001b[0;34m=\u001b[0m\u001b[0;36m25\u001b[0m\u001b[0;34m)\u001b[0m\u001b[0;34m\u001b[0m\u001b[0;34m\u001b[0m\u001b[0m\n\u001b[1;32m      3\u001b[0m \u001b[0mfraud_RFC_fit\u001b[0m \u001b[0;34m=\u001b[0m \u001b[0mfraud_RFC\u001b[0m\u001b[0;34m.\u001b[0m\u001b[0mfit\u001b[0m\u001b[0;34m(\u001b[0m\u001b[0mX\u001b[0m\u001b[0;34m=\u001b[0m\u001b[0mx_trans\u001b[0m\u001b[0;34m,\u001b[0m\u001b[0my\u001b[0m\u001b[0;34m=\u001b[0m\u001b[0mfraud\u001b[0m\u001b[0;34m)\u001b[0m\u001b[0;34m\u001b[0m\u001b[0;34m\u001b[0m\u001b[0m\n\u001b[0;32m----> 4\u001b[0;31m \u001b[0mpreds\u001b[0m \u001b[0;34m=\u001b[0m \u001b[0mfraud_RFC_fit\u001b[0m\u001b[0;34m.\u001b[0m\u001b[0mpredict_proba\u001b[0m\u001b[0;34m(\u001b[0m\u001b[0mX\u001b[0m\u001b[0;34m=\u001b[0m\u001b[0mtest_x_trans\u001b[0m\u001b[0;34m)\u001b[0m\u001b[0;34m\u001b[0m\u001b[0;34m\u001b[0m\u001b[0m\n\u001b[0m",
      "\u001b[0;32m/anaconda3/lib/python3.7/site-packages/sklearn/ensemble/forest.py\u001b[0m in \u001b[0;36mpredict_proba\u001b[0;34m(self, X)\u001b[0m\n\u001b[1;32m    581\u001b[0m         \u001b[0mcheck_is_fitted\u001b[0m\u001b[0;34m(\u001b[0m\u001b[0mself\u001b[0m\u001b[0;34m,\u001b[0m \u001b[0;34m'estimators_'\u001b[0m\u001b[0;34m)\u001b[0m\u001b[0;34m\u001b[0m\u001b[0;34m\u001b[0m\u001b[0m\n\u001b[1;32m    582\u001b[0m         \u001b[0;31m# Check data\u001b[0m\u001b[0;34m\u001b[0m\u001b[0;34m\u001b[0m\u001b[0;34m\u001b[0m\u001b[0m\n\u001b[0;32m--> 583\u001b[0;31m         \u001b[0mX\u001b[0m \u001b[0;34m=\u001b[0m \u001b[0mself\u001b[0m\u001b[0;34m.\u001b[0m\u001b[0m_validate_X_predict\u001b[0m\u001b[0;34m(\u001b[0m\u001b[0mX\u001b[0m\u001b[0;34m)\u001b[0m\u001b[0;34m\u001b[0m\u001b[0;34m\u001b[0m\u001b[0m\n\u001b[0m\u001b[1;32m    584\u001b[0m \u001b[0;34m\u001b[0m\u001b[0m\n\u001b[1;32m    585\u001b[0m         \u001b[0;31m# Assign chunk of trees to jobs\u001b[0m\u001b[0;34m\u001b[0m\u001b[0;34m\u001b[0m\u001b[0;34m\u001b[0m\u001b[0m\n",
      "\u001b[0;32m/anaconda3/lib/python3.7/site-packages/sklearn/ensemble/forest.py\u001b[0m in \u001b[0;36m_validate_X_predict\u001b[0;34m(self, X)\u001b[0m\n\u001b[1;32m    360\u001b[0m                                  \"call `fit` before exploiting the model.\")\n\u001b[1;32m    361\u001b[0m \u001b[0;34m\u001b[0m\u001b[0m\n\u001b[0;32m--> 362\u001b[0;31m         \u001b[0;32mreturn\u001b[0m \u001b[0mself\u001b[0m\u001b[0;34m.\u001b[0m\u001b[0mestimators_\u001b[0m\u001b[0;34m[\u001b[0m\u001b[0;36m0\u001b[0m\u001b[0;34m]\u001b[0m\u001b[0;34m.\u001b[0m\u001b[0m_validate_X_predict\u001b[0m\u001b[0;34m(\u001b[0m\u001b[0mX\u001b[0m\u001b[0;34m,\u001b[0m \u001b[0mcheck_input\u001b[0m\u001b[0;34m=\u001b[0m\u001b[0;32mTrue\u001b[0m\u001b[0;34m)\u001b[0m\u001b[0;34m\u001b[0m\u001b[0;34m\u001b[0m\u001b[0m\n\u001b[0m\u001b[1;32m    363\u001b[0m \u001b[0;34m\u001b[0m\u001b[0m\n\u001b[1;32m    364\u001b[0m     \u001b[0;34m@\u001b[0m\u001b[0mproperty\u001b[0m\u001b[0;34m\u001b[0m\u001b[0;34m\u001b[0m\u001b[0m\n",
      "\u001b[0;32m/anaconda3/lib/python3.7/site-packages/sklearn/tree/tree.py\u001b[0m in \u001b[0;36m_validate_X_predict\u001b[0;34m(self, X, check_input)\u001b[0m\n\u001b[1;32m    386\u001b[0m                              \u001b[0;34m\"match the input. Model n_features is %s and \"\u001b[0m\u001b[0;34m\u001b[0m\u001b[0;34m\u001b[0m\u001b[0m\n\u001b[1;32m    387\u001b[0m                              \u001b[0;34m\"input n_features is %s \"\u001b[0m\u001b[0;34m\u001b[0m\u001b[0;34m\u001b[0m\u001b[0m\n\u001b[0;32m--> 388\u001b[0;31m                              % (self.n_features_, n_features))\n\u001b[0m\u001b[1;32m    389\u001b[0m \u001b[0;34m\u001b[0m\u001b[0m\n\u001b[1;32m    390\u001b[0m         \u001b[0;32mreturn\u001b[0m \u001b[0mX\u001b[0m\u001b[0;34m\u001b[0m\u001b[0;34m\u001b[0m\u001b[0m\n",
      "\u001b[0;31mValueError\u001b[0m: Number of features of the model must match the input. Model n_features is 529 and input n_features is 530 "
     ]
    }
   ],
   "source": [
    "data_sub = data.sample(frac=1)\n",
    "fraud_RFC = RFC(n_estimators=500, max_depth=25)\n",
    "fraud_RFC_fit = fraud_RFC.fit(X=x_trans,y=fraud)\n"
   ]
  },
  {
   "cell_type": "code",
   "execution_count": 60,
   "metadata": {},
   "outputs": [
    {
     "name": "stdout",
     "output_type": "stream",
     "text": [
      "set()\n",
      "set()\n"
     ]
    }
   ],
   "source": [
    "test_x_trans_cols = list(test_x_trans.columns)\n",
    "x_trans_cols = list(x_trans.columns)\n",
    "\n",
    "x_cols = list(set(test_x_trans_cols) & set(x_trans_cols))\n",
    "print(set(test_x_trans_cols) - set(x_trans_cols))\n",
    "print(set(x_trans_cols)-set(test_x_trans_cols))"
   ]
  },
  {
   "cell_type": "code",
   "execution_count": 66,
   "metadata": {},
   "outputs": [],
   "source": [
    "preds = fraud_RFC_fit.predict_proba(X=test_x_trans)"
   ]
  },
  {
   "cell_type": "code",
   "execution_count": 68,
   "metadata": {},
   "outputs": [],
   "source": [
    "#Creating submission\n",
    "submission = pd.read_csv('Data/sample_submission.csv')\n",
    "submission['isFraud'] = preds[:,1]\n",
    "submission.to_csv('Data/submission.csv',index=False)"
   ]
  },
  {
   "cell_type": "markdown",
   "metadata": {},
   "source": [
    "Score on Kaggle was: 0.8949, bit lower than what I was expecting, but not too bad. However, in actually calculating the test predictions, I realised that the approach I used to generate dummies for the training dataset gives slightly different results for the test data set because some categories for the categorical variables do not show up in the test and vice versa. I'll need to do some manual manipulations to deal with that. \n",
    "\n",
    "I also think that perhaps the CV approach may not be the best idea in this context because of time series dependencies. I will try using a time series split "
   ]
  },
  {
   "cell_type": "markdown",
   "metadata": {},
   "source": [
    "We also want to consider other hyper parameters as well. We could continue to do so in parallel, but this might not give us the best combination as each dimension may be interrelated. Doing a grid search would be madness, we could try a random search, but I think that using Bayesian optimisation might be the way to go."
   ]
  },
  {
   "cell_type": "markdown",
   "metadata": {},
   "source": [
    "# Back again after a long time\n",
    "\n",
    "So I'm coming back to this workbook after a while to investigate the features I created and pruned in Phase II. I trained them an xgboost model, so it's hard to tell whether the improved performance was due to the new features, or switching to xgboost. So I'm going to retrain a random forests ensemble with the processed data, calculate a validation score and submit predictions to the leaderboard."
   ]
  },
  {
   "cell_type": "code",
   "execution_count": 1,
   "metadata": {},
   "outputs": [],
   "source": [
    "import pandas as pd\n",
    "import numpy as np\n",
    "from sklearn.model_selection import train_test_split\n",
    "from sklearn.ensemble import RandomForestClassifier as RFC\n",
    "from sklearn.metrics import roc_auc_score"
   ]
  },
  {
   "cell_type": "code",
   "execution_count": 2,
   "metadata": {},
   "outputs": [],
   "source": [
    "train = pd.read_csv('Data/train_preprocessed_1.csv')\n",
    "test = pd.read_csv('Data/test_preprocessed_1.csv')"
   ]
  },
  {
   "cell_type": "code",
   "execution_count": 3,
   "metadata": {},
   "outputs": [],
   "source": [
    "y = train['isFraud']\n",
    "train.drop('isFraud',axis=1,inplace=True)\n",
    "\n",
    "X_train, X_val, y_train, y_val = train_test_split(train, y, shuffle=False)"
   ]
  },
  {
   "cell_type": "code",
   "execution_count": 4,
   "metadata": {},
   "outputs": [
    {
     "data": {
      "text/plain": [
       "RandomForestClassifier(bootstrap=True, class_weight=None, criterion='gini',\n",
       "            max_depth=25, max_features='auto', max_leaf_nodes=None,\n",
       "            min_impurity_decrease=0.0, min_impurity_split=None,\n",
       "            min_samples_leaf=1, min_samples_split=2,\n",
       "            min_weight_fraction_leaf=0.0, n_estimators=500, n_jobs=None,\n",
       "            oob_score=False, random_state=None, verbose=0,\n",
       "            warm_start=False)"
      ]
     },
     "execution_count": 4,
     "metadata": {},
     "output_type": "execute_result"
    }
   ],
   "source": [
    "fraud_RFC = RFC(n_estimators=500, max_depth=25)\n",
    "fraud_RFC.fit(X=X_train,y=y_train)"
   ]
  },
  {
   "cell_type": "code",
   "execution_count": 5,
   "metadata": {},
   "outputs": [],
   "source": [
    "val_preds = fraud_RFC.predict_proba(X=X_val)\n",
    "val_auc = roc_auc_score(y_val,val_preds[:,1])"
   ]
  },
  {
   "cell_type": "code",
   "execution_count": 7,
   "metadata": {},
   "outputs": [
    {
     "data": {
      "text/plain": [
       "0.8825471487223295"
      ]
     },
     "execution_count": 7,
     "metadata": {},
     "output_type": "execute_result"
    }
   ],
   "source": [
    "val_auc"
   ]
  },
  {
   "cell_type": "code",
   "execution_count": 10,
   "metadata": {},
   "outputs": [],
   "source": [
    "test_preds = fraud_RFC.predict_proba(test)\n",
    "submission = pd.read_csv('Data/sample_submission.csv')\n",
    "submission['isFraud'] = test_preds[:,1]\n",
    "submission.to_csv('Data/submission.csv',index=False)"
   ]
  },
  {
   "cell_type": "markdown",
   "metadata": {},
   "source": [
    "This gives us a public AUC of 0.897861, a slight improvement by 0.03. While this doesn't appear very large, this is pretty good news because despite cutting about two hundred variables, our new features actually give us a net increase. "
   ]
  }
 ],
 "metadata": {
  "kernelspec": {
   "display_name": "Python 3",
   "language": "python",
   "name": "python3"
  },
  "language_info": {
   "codemirror_mode": {
    "name": "ipython",
    "version": 3
   },
   "file_extension": ".py",
   "mimetype": "text/x-python",
   "name": "python",
   "nbconvert_exporter": "python",
   "pygments_lexer": "ipython3",
   "version": "3.7.3"
  }
 },
 "nbformat": 4,
 "nbformat_minor": 2
}
