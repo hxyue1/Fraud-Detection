{
 "cells": [
  {
   "cell_type": "markdown",
   "metadata": {},
   "source": [
    "This notebook is used to preprocess data in accordance with Phase II and the creation of new features. I also need to use this to check for errors due NaNs being created."
   ]
  },
  {
   "cell_type": "code",
   "execution_count": 1,
   "metadata": {},
   "outputs": [],
   "source": [
    "import pandas as pd\n",
    "import numpy as np\n",
    "import preprocess as pp\n",
    "\n",
    "from sklearn.model_selection import train_test_split\n",
    "from sklearn.preprocessing import LabelEncoder"
   ]
  },
  {
   "cell_type": "code",
   "execution_count": 2,
   "metadata": {},
   "outputs": [],
   "source": [
    "def feature_creation(categorical, numerical, method, df):\n",
    "    \n",
    "    #Creating some features by default because they will probably be needed anyway\n",
    "    means_temp = df.groupby(categorical)[numerical].agg(['mean']).to_dict()\n",
    "    means = df[categorical].map(means_temp['mean'])\n",
    "    \n",
    "    stds_temp = df.groupby(categorical)[numerical].agg(['std']).to_dict()\n",
    "    stds = df[categorical].map(stds_temp['std'])\n",
    "    \n",
    "    \n",
    "    if method == 'counts':\n",
    "        counts_temp = df[categorical].value_counts().to_dict()\n",
    "        counts = df[categorical].map(counts_temp)\n",
    "        return(counts)\n",
    "    \n",
    "    if method == 'means':\n",
    "        return(means)\n",
    "    \n",
    "    if method == 'stds':\n",
    "        return(stds)\n",
    "    \n",
    "    if method == \"devs\":\n",
    "        devs = df[numerical] - means\n",
    "        return(devs)\n",
    "    \n",
    "    if method == \"std_devs\":\n",
    "        devs = df[numerical] - means\n",
    "        std_devs = devs/stds\n",
    "        return(std_devs)\n",
    "    \n",
    "def feature_aggregation_creation(combination_list, df):\n",
    "    \n",
    "    out_df = pd.DataFrame(\n",
    "        {'temp':np.zeros(len(df))}\n",
    "    )\n",
    "    \n",
    "    for i in np.arange(0,len(combination_list)):\n",
    "        combination = combination_list[i]\n",
    "        \n",
    "        print(combination)\n",
    "        feature = feature_creation(\n",
    "            categorical = combination[0],\n",
    "            numerical = combination[1],\n",
    "            method = combination[2],\n",
    "            df=df)\n",
    "        \n",
    "        name = combination[0] + '.' + combination[1] + '.' + combination[2]\n",
    "        out_df[name] = feature\n",
    "        \n",
    "    out_df.drop('temp',axis=1,inplace=True)\n",
    "    return(out_df)    "
   ]
  },
  {
   "cell_type": "code",
   "execution_count": 3,
   "metadata": {},
   "outputs": [],
   "source": [
    "train = pd.read_csv('Data/train_transaction.csv')\n",
    "test = pd.read_csv('Data/test_transaction.csv')"
   ]
  },
  {
   "cell_type": "code",
   "execution_count": 4,
   "metadata": {},
   "outputs": [
    {
     "name": "stderr",
     "output_type": "stream",
     "text": [
      "/anaconda3/lib/python3.7/site-packages/ipykernel_launcher.py:7: FutureWarning: Sorting because non-concatenation axis is not aligned. A future version\n",
      "of pandas will change to not sort by default.\n",
      "\n",
      "To accept the future behavior, pass 'sort=False'.\n",
      "\n",
      "To retain the current behavior and silence the warning, pass 'sort=True'.\n",
      "\n",
      "  import sys\n"
     ]
    }
   ],
   "source": [
    "y = train['isFraud']\n",
    "train.drop(['TransactionID','isFraud'],axis=1,inplace=True)\n",
    "\n",
    "train_shape = train.shape\n",
    "test_shape = train.shape\n",
    "\n",
    "X = pd.concat([train,test], ignore_index=True)\n",
    "del train, test"
   ]
  },
  {
   "cell_type": "code",
   "execution_count": 5,
   "metadata": {},
   "outputs": [],
   "source": [
    "numerics = X.select_dtypes(exclude='object')\n",
    "strings = X.select_dtypes(include='object')\n",
    "strings = strings.fillna('NaN')\n",
    "del X\n",
    "\n",
    "numerics = pp.fill_nans(numerics)\n",
    "X = pd.concat([numerics, strings], axis =1)\n",
    "\n",
    "del numerics, strings"
   ]
  },
  {
   "cell_type": "code",
   "execution_count": 6,
   "metadata": {},
   "outputs": [
    {
     "data": {
      "text/html": [
       "<div>\n",
       "<style scoped>\n",
       "    .dataframe tbody tr th:only-of-type {\n",
       "        vertical-align: middle;\n",
       "    }\n",
       "\n",
       "    .dataframe tbody tr th {\n",
       "        vertical-align: top;\n",
       "    }\n",
       "\n",
       "    .dataframe thead th {\n",
       "        text-align: right;\n",
       "    }\n",
       "</style>\n",
       "<table border=\"1\" class=\"dataframe\">\n",
       "  <thead>\n",
       "    <tr style=\"text-align: right;\">\n",
       "      <th></th>\n",
       "      <th>Unnamed: 0</th>\n",
       "      <th>feature</th>\n",
       "      <th>weight</th>\n",
       "      <th>std</th>\n",
       "      <th>standardised_weight</th>\n",
       "    </tr>\n",
       "  </thead>\n",
       "  <tbody>\n",
       "    <tr>\n",
       "      <th>1</th>\n",
       "      <td>3</td>\n",
       "      <td>C4</td>\n",
       "      <td>0.002896</td>\n",
       "      <td>0.000043</td>\n",
       "      <td>67.077305</td>\n",
       "    </tr>\n",
       "    <tr>\n",
       "      <th>2</th>\n",
       "      <td>0</td>\n",
       "      <td>C14</td>\n",
       "      <td>0.005882</td>\n",
       "      <td>0.000088</td>\n",
       "      <td>67.049029</td>\n",
       "    </tr>\n",
       "    <tr>\n",
       "      <th>3</th>\n",
       "      <td>2</td>\n",
       "      <td>M6.C1.std_devs</td>\n",
       "      <td>0.004056</td>\n",
       "      <td>0.000155</td>\n",
       "      <td>26.124825</td>\n",
       "    </tr>\n",
       "    <tr>\n",
       "      <th>4</th>\n",
       "      <td>4</td>\n",
       "      <td>M4.V198.devs</td>\n",
       "      <td>0.001400</td>\n",
       "      <td>0.000054</td>\n",
       "      <td>25.732512</td>\n",
       "    </tr>\n",
       "    <tr>\n",
       "      <th>5</th>\n",
       "      <td>1</td>\n",
       "      <td>C1</td>\n",
       "      <td>0.004640</td>\n",
       "      <td>0.000192</td>\n",
       "      <td>24.174537</td>\n",
       "    </tr>\n",
       "    <tr>\n",
       "      <th>6</th>\n",
       "      <td>7</td>\n",
       "      <td>V58</td>\n",
       "      <td>0.000662</td>\n",
       "      <td>0.000038</td>\n",
       "      <td>17.592452</td>\n",
       "    </tr>\n",
       "    <tr>\n",
       "      <th>7</th>\n",
       "      <td>20</td>\n",
       "      <td>ProductCD.V63.means</td>\n",
       "      <td>0.000112</td>\n",
       "      <td>0.000007</td>\n",
       "      <td>14.966630</td>\n",
       "    </tr>\n",
       "    <tr>\n",
       "      <th>8</th>\n",
       "      <td>9</td>\n",
       "      <td>R_emaildomain.V108.means</td>\n",
       "      <td>0.000500</td>\n",
       "      <td>0.000033</td>\n",
       "      <td>14.940358</td>\n",
       "    </tr>\n",
       "    <tr>\n",
       "      <th>9</th>\n",
       "      <td>5</td>\n",
       "      <td>ProductCD</td>\n",
       "      <td>0.000838</td>\n",
       "      <td>0.000062</td>\n",
       "      <td>13.495081</td>\n",
       "    </tr>\n",
       "    <tr>\n",
       "      <th>10</th>\n",
       "      <td>8</td>\n",
       "      <td>R_emaildomain.V129.std_devs</td>\n",
       "      <td>0.000632</td>\n",
       "      <td>0.000052</td>\n",
       "      <td>12.171865</td>\n",
       "    </tr>\n",
       "    <tr>\n",
       "      <th>11</th>\n",
       "      <td>6</td>\n",
       "      <td>card6</td>\n",
       "      <td>0.000826</td>\n",
       "      <td>0.000074</td>\n",
       "      <td>11.215540</td>\n",
       "    </tr>\n",
       "    <tr>\n",
       "      <th>12</th>\n",
       "      <td>25</td>\n",
       "      <td>R_emaildomain.V129.devs</td>\n",
       "      <td>0.000072</td>\n",
       "      <td>0.000007</td>\n",
       "      <td>9.621405</td>\n",
       "    </tr>\n",
       "    <tr>\n",
       "      <th>13</th>\n",
       "      <td>11</td>\n",
       "      <td>V188</td>\n",
       "      <td>0.000356</td>\n",
       "      <td>0.000038</td>\n",
       "      <td>9.433981</td>\n",
       "    </tr>\n",
       "    <tr>\n",
       "      <th>14</th>\n",
       "      <td>28</td>\n",
       "      <td>R_emaildomain.V58.means</td>\n",
       "      <td>0.000058</td>\n",
       "      <td>0.000007</td>\n",
       "      <td>7.750576</td>\n",
       "    </tr>\n",
       "    <tr>\n",
       "      <th>15</th>\n",
       "      <td>10</td>\n",
       "      <td>P_emaildomain</td>\n",
       "      <td>0.000382</td>\n",
       "      <td>0.000066</td>\n",
       "      <td>5.828157</td>\n",
       "    </tr>\n",
       "    <tr>\n",
       "      <th>16</th>\n",
       "      <td>13</td>\n",
       "      <td>C5</td>\n",
       "      <td>0.000282</td>\n",
       "      <td>0.000049</td>\n",
       "      <td>5.785300</td>\n",
       "    </tr>\n",
       "    <tr>\n",
       "      <th>17</th>\n",
       "      <td>12</td>\n",
       "      <td>V163</td>\n",
       "      <td>0.000324</td>\n",
       "      <td>0.000061</td>\n",
       "      <td>5.295136</td>\n",
       "    </tr>\n",
       "    <tr>\n",
       "      <th>18</th>\n",
       "      <td>16</td>\n",
       "      <td>R_emaildomain.V276.stds</td>\n",
       "      <td>0.000214</td>\n",
       "      <td>0.000043</td>\n",
       "      <td>4.956679</td>\n",
       "    </tr>\n",
       "    <tr>\n",
       "      <th>19</th>\n",
       "      <td>19</td>\n",
       "      <td>V278</td>\n",
       "      <td>0.000118</td>\n",
       "      <td>0.000025</td>\n",
       "      <td>4.754355</td>\n",
       "    </tr>\n",
       "    <tr>\n",
       "      <th>20</th>\n",
       "      <td>15</td>\n",
       "      <td>V333</td>\n",
       "      <td>0.000220</td>\n",
       "      <td>0.000046</td>\n",
       "      <td>4.733646</td>\n",
       "    </tr>\n",
       "    <tr>\n",
       "      <th>21</th>\n",
       "      <td>29</td>\n",
       "      <td>V138</td>\n",
       "      <td>0.000052</td>\n",
       "      <td>0.000012</td>\n",
       "      <td>4.458963</td>\n",
       "    </tr>\n",
       "    <tr>\n",
       "      <th>22</th>\n",
       "      <td>17</td>\n",
       "      <td>V153</td>\n",
       "      <td>0.000188</td>\n",
       "      <td>0.000044</td>\n",
       "      <td>4.317563</td>\n",
       "    </tr>\n",
       "    <tr>\n",
       "      <th>23</th>\n",
       "      <td>14</td>\n",
       "      <td>M4.V188.means</td>\n",
       "      <td>0.000226</td>\n",
       "      <td>0.000062</td>\n",
       "      <td>3.617042</td>\n",
       "    </tr>\n",
       "    <tr>\n",
       "      <th>24</th>\n",
       "      <td>30</td>\n",
       "      <td>M4.V198.std_devs</td>\n",
       "      <td>0.000042</td>\n",
       "      <td>0.000012</td>\n",
       "      <td>3.601470</td>\n",
       "    </tr>\n",
       "    <tr>\n",
       "      <th>25</th>\n",
       "      <td>27</td>\n",
       "      <td>V276</td>\n",
       "      <td>0.000060</td>\n",
       "      <td>0.000018</td>\n",
       "      <td>3.354102</td>\n",
       "    </tr>\n",
       "    <tr>\n",
       "      <th>26</th>\n",
       "      <td>31</td>\n",
       "      <td>V115</td>\n",
       "      <td>0.000038</td>\n",
       "      <td>0.000012</td>\n",
       "      <td>3.258473</td>\n",
       "    </tr>\n",
       "    <tr>\n",
       "      <th>27</th>\n",
       "      <td>32</td>\n",
       "      <td>M5.C4.std_devs</td>\n",
       "      <td>0.000038</td>\n",
       "      <td>0.000012</td>\n",
       "      <td>3.258473</td>\n",
       "    </tr>\n",
       "    <tr>\n",
       "      <th>28</th>\n",
       "      <td>24</td>\n",
       "      <td>M6.V278.std_devs</td>\n",
       "      <td>0.000086</td>\n",
       "      <td>0.000027</td>\n",
       "      <td>3.241247</td>\n",
       "    </tr>\n",
       "  </tbody>\n",
       "</table>\n",
       "</div>"
      ],
      "text/plain": [
       "    Unnamed: 0                      feature    weight       std  \\\n",
       "1            3                           C4  0.002896  0.000043   \n",
       "2            0                          C14  0.005882  0.000088   \n",
       "3            2               M6.C1.std_devs  0.004056  0.000155   \n",
       "4            4                 M4.V198.devs  0.001400  0.000054   \n",
       "5            1                           C1  0.004640  0.000192   \n",
       "6            7                          V58  0.000662  0.000038   \n",
       "7           20          ProductCD.V63.means  0.000112  0.000007   \n",
       "8            9     R_emaildomain.V108.means  0.000500  0.000033   \n",
       "9            5                    ProductCD  0.000838  0.000062   \n",
       "10           8  R_emaildomain.V129.std_devs  0.000632  0.000052   \n",
       "11           6                        card6  0.000826  0.000074   \n",
       "12          25      R_emaildomain.V129.devs  0.000072  0.000007   \n",
       "13          11                         V188  0.000356  0.000038   \n",
       "14          28      R_emaildomain.V58.means  0.000058  0.000007   \n",
       "15          10                P_emaildomain  0.000382  0.000066   \n",
       "16          13                           C5  0.000282  0.000049   \n",
       "17          12                         V163  0.000324  0.000061   \n",
       "18          16      R_emaildomain.V276.stds  0.000214  0.000043   \n",
       "19          19                         V278  0.000118  0.000025   \n",
       "20          15                         V333  0.000220  0.000046   \n",
       "21          29                         V138  0.000052  0.000012   \n",
       "22          17                         V153  0.000188  0.000044   \n",
       "23          14                M4.V188.means  0.000226  0.000062   \n",
       "24          30             M4.V198.std_devs  0.000042  0.000012   \n",
       "25          27                         V276  0.000060  0.000018   \n",
       "26          31                         V115  0.000038  0.000012   \n",
       "27          32               M5.C4.std_devs  0.000038  0.000012   \n",
       "28          24             M6.V278.std_devs  0.000086  0.000027   \n",
       "\n",
       "    standardised_weight  \n",
       "1             67.077305  \n",
       "2             67.049029  \n",
       "3             26.124825  \n",
       "4             25.732512  \n",
       "5             24.174537  \n",
       "6             17.592452  \n",
       "7             14.966630  \n",
       "8             14.940358  \n",
       "9             13.495081  \n",
       "10            12.171865  \n",
       "11            11.215540  \n",
       "12             9.621405  \n",
       "13             9.433981  \n",
       "14             7.750576  \n",
       "15             5.828157  \n",
       "16             5.785300  \n",
       "17             5.295136  \n",
       "18             4.956679  \n",
       "19             4.754355  \n",
       "20             4.733646  \n",
       "21             4.458963  \n",
       "22             4.317563  \n",
       "23             3.617042  \n",
       "24             3.601470  \n",
       "25             3.354102  \n",
       "26             3.258473  \n",
       "27             3.258473  \n",
       "28             3.241247  "
      ]
     },
     "execution_count": 6,
     "metadata": {},
     "output_type": "execute_result"
    }
   ],
   "source": [
    "new_ranks = pd.read_csv('Data/new_rankings.csv')\n",
    "new_ranks['standardised_weight'] = new_ranks['weight']/new_ranks['std']\n",
    "\n",
    "\n",
    "#Dropping the infinite and missing values\n",
    "new_ranks = new_ranks.replace([-np.inf,np.inf],np.nan)\n",
    "new_ranks = new_ranks.dropna()\n",
    "\n",
    "#Subsetting to variables with a standardised weight greater than 3 to ensure statistical significance at the 0.3% level\n",
    "new_ranks = new_ranks[new_ranks['standardised_weight'] > 3]\n",
    "new_ranks"
   ]
  },
  {
   "cell_type": "code",
   "execution_count": 7,
   "metadata": {},
   "outputs": [
    {
     "name": "stdout",
     "output_type": "stream",
     "text": [
      "[['M6', 'C1', 'std_devs'], ['M4', 'V198', 'devs'], ['ProductCD', 'V63', 'means'], ['R_emaildomain', 'V108', 'means'], ['R_emaildomain', 'V129', 'std_devs'], ['R_emaildomain', 'V129', 'devs'], ['R_emaildomain', 'V58', 'means'], ['R_emaildomain', 'V276', 'stds'], ['M4', 'V188', 'means'], ['M4', 'V198', 'std_devs'], ['M5', 'C4', 'std_devs'], ['M6', 'V278', 'std_devs']]\n"
     ]
    }
   ],
   "source": [
    "#newly created features have a full stop in their name, so this will identify them\n",
    "feature_names = new_ranks['feature'].tolist()\n",
    "new_feature_names = [feature for feature in feature_names if '.' in feature]\n",
    "\n",
    "#This cuts us down to these features\n",
    "features_to_deploy = new_ranks.loc[new_ranks['feature'].isin(new_feature_names)]\n",
    "features_to_deploy\n",
    "\n",
    "#To put into our feature creation function\n",
    "combinations = [feature_name.split('.') for feature_name in new_feature_names ]\n",
    "print(combinations)"
   ]
  },
  {
   "cell_type": "code",
   "execution_count": 10,
   "metadata": {},
   "outputs": [
    {
     "name": "stdout",
     "output_type": "stream",
     "text": [
      "['M6', 'C1', 'std_devs']\n",
      "['M4', 'V198', 'devs']\n",
      "['ProductCD', 'V63', 'means']\n",
      "['R_emaildomain', 'V108', 'means']\n",
      "['R_emaildomain', 'V129', 'std_devs']\n",
      "['R_emaildomain', 'V129', 'devs']\n",
      "['R_emaildomain', 'V58', 'means']\n",
      "['R_emaildomain', 'V276', 'stds']\n",
      "['M4', 'V188', 'means']\n",
      "['M4', 'V198', 'std_devs']\n",
      "['M5', 'C4', 'std_devs']\n",
      "['M6', 'V278', 'std_devs']\n"
     ]
    }
   ],
   "source": [
    "#Creating new features\n",
    "new_features = feature_aggregation_creation(combinations, X)"
   ]
  },
  {
   "cell_type": "code",
   "execution_count": 13,
   "metadata": {
    "scrolled": true
   },
   "outputs": [
    {
     "data": {
      "text/plain": [
       "M6.C1.std_devs                      0\n",
       "M4.V198.devs                        0\n",
       "ProductCD.V63.means                 0\n",
       "R_emaildomain.V108.means            0\n",
       "R_emaildomain.V129.std_devs      1497\n",
       "R_emaildomain.V129.devs             0\n",
       "R_emaildomain.V58.means             0\n",
       "R_emaildomain.V276.stds             0\n",
       "M4.V188.means                       0\n",
       "M4.V198.std_devs                    0\n",
       "M5.C4.std_devs                 437117\n",
       "M6.V278.std_devs                    0\n",
       "dtype: int64"
      ]
     },
     "execution_count": 13,
     "metadata": {},
     "output_type": "execute_result"
    }
   ],
   "source": [
    "new_features.isna().sum()"
   ]
  },
  {
   "cell_type": "markdown",
   "metadata": {},
   "source": [
    "There are NaNs in the new features which was causing problems for the Random Forests Classifier. Went under the radar for xgboost because it automatically deals with them. \n",
    "\n",
    "The missing values are related to the std_devs calculation. I suspect that this is because the standard deviations calculated for some categories are actually zero, so when you divide by zero it creates an NaN value."
   ]
  },
  {
   "cell_type": "code",
   "execution_count": 16,
   "metadata": {},
   "outputs": [
    {
     "data": {
      "text/plain": [
       "{'std': {'F': 0.0, 'NaN': 74.69961436466025, 'T': 0.0}}"
      ]
     },
     "execution_count": 16,
     "metadata": {},
     "output_type": "execute_result"
    }
   ],
   "source": [
    "stds_temp = X.groupby('M5')['C4'].agg(['std']).to_dict()\n",
    "stds_temp\n",
    "    #stds = df[categorical].map(stds_temp['std'])"
   ]
  },
  {
   "cell_type": "code",
   "execution_count": 20,
   "metadata": {},
   "outputs": [
    {
     "data": {
      "text/plain": [
       "NaN    660114\n",
       "F      240155\n",
       "T      196962\n",
       "Name: M5, dtype: int64"
      ]
     },
     "execution_count": 20,
     "metadata": {},
     "output_type": "execute_result"
    }
   ],
   "source": [
    "X['M5'].value_counts()"
   ]
  },
  {
   "cell_type": "markdown",
   "metadata": {},
   "source": [
    "Just as I suspected. The standard deviations for the F and T categories are zero, their counts are 240155, and 196962 respectively which add up to the total amount of Nans for the M5.C4 aggregation, 437117. Now the question is, how do we deal with this? \n",
    "\n",
    "It might be worth looking at the distribution for these cross-tabs."
   ]
  },
  {
   "cell_type": "code",
   "execution_count": 23,
   "metadata": {},
   "outputs": [
    {
     "name": "stdout",
     "output_type": "stream",
     "text": [
      "1          0.0\n",
      "3          0.0\n",
      "9          0.0\n",
      "28         0.0\n",
      "29         0.0\n",
      "32         0.0\n",
      "33         0.0\n",
      "36         0.0\n",
      "41         0.0\n",
      "42         0.0\n",
      "43         0.0\n",
      "50         0.0\n",
      "51         0.0\n",
      "54         0.0\n",
      "75         0.0\n",
      "82         0.0\n",
      "86         0.0\n",
      "91         0.0\n",
      "98         0.0\n",
      "107        0.0\n",
      "116        0.0\n",
      "117        0.0\n",
      "123        0.0\n",
      "129        0.0\n",
      "151        0.0\n",
      "158        0.0\n",
      "160        0.0\n",
      "162        0.0\n",
      "166        0.0\n",
      "170        0.0\n",
      "          ... \n",
      "1096985    0.0\n",
      "1096990    0.0\n",
      "1096997    0.0\n",
      "1096998    0.0\n",
      "1097003    0.0\n",
      "1097006    0.0\n",
      "1097016    0.0\n",
      "1097019    0.0\n",
      "1097034    0.0\n",
      "1097041    0.0\n",
      "1097049    0.0\n",
      "1097083    0.0\n",
      "1097086    0.0\n",
      "1097090    0.0\n",
      "1097102    0.0\n",
      "1097103    0.0\n",
      "1097107    0.0\n",
      "1097110    0.0\n",
      "1097113    0.0\n",
      "1097118    0.0\n",
      "1097119    0.0\n",
      "1097125    0.0\n",
      "1097132    0.0\n",
      "1097144    0.0\n",
      "1097158    0.0\n",
      "1097174    0.0\n",
      "1097201    0.0\n",
      "1097204    0.0\n",
      "1097206    0.0\n",
      "1097209    0.0\n",
      "Name: C4, Length: 196962, dtype: float64 0          0.0\n",
      "2          0.0\n",
      "5          0.0\n",
      "6          0.0\n",
      "7          0.0\n",
      "12         0.0\n",
      "14         0.0\n",
      "19         0.0\n",
      "20         0.0\n",
      "26         0.0\n",
      "44         0.0\n",
      "46         0.0\n",
      "47         0.0\n",
      "52         0.0\n",
      "56         0.0\n",
      "64         0.0\n",
      "67         0.0\n",
      "71         0.0\n",
      "73         0.0\n",
      "77         0.0\n",
      "92         0.0\n",
      "94         0.0\n",
      "95         0.0\n",
      "96         0.0\n",
      "97         0.0\n",
      "106        0.0\n",
      "120        0.0\n",
      "134        0.0\n",
      "150        0.0\n",
      "153        0.0\n",
      "          ... \n",
      "1097099    0.0\n",
      "1097101    0.0\n",
      "1097104    0.0\n",
      "1097109    0.0\n",
      "1097116    0.0\n",
      "1097126    0.0\n",
      "1097128    0.0\n",
      "1097135    0.0\n",
      "1097136    0.0\n",
      "1097140    0.0\n",
      "1097166    0.0\n",
      "1097169    0.0\n",
      "1097170    0.0\n",
      "1097182    0.0\n",
      "1097184    0.0\n",
      "1097186    0.0\n",
      "1097187    0.0\n",
      "1097188    0.0\n",
      "1097189    0.0\n",
      "1097190    0.0\n",
      "1097192    0.0\n",
      "1097195    0.0\n",
      "1097200    0.0\n",
      "1097202    0.0\n",
      "1097207    0.0\n",
      "1097212    0.0\n",
      "1097213    0.0\n",
      "1097222    0.0\n",
      "1097228    0.0\n",
      "1097229    0.0\n",
      "Name: C4, Length: 240155, dtype: float64\n"
     ]
    }
   ],
   "source": [
    "M5_T_C4 = X[X['M5'] == 'T']['C4']\n",
    "M5_F_C4 = X[X['M5'] == 'F']['C4']\n",
    "print(M5_T_C4, M5_F_C4)"
   ]
  },
  {
   "cell_type": "markdown",
   "metadata": {},
   "source": [
    "Not surprisingly, a lot of zeros. Let's remove the zeros and see what the remaining distribution is like."
   ]
  },
  {
   "cell_type": "code",
   "execution_count": 30,
   "metadata": {},
   "outputs": [
    {
     "data": {
      "text/plain": [
       "<matplotlib.axes._subplots.AxesSubplot at 0x1a1d992128>"
      ]
     },
     "execution_count": 30,
     "metadata": {},
     "output_type": "execute_result"
    },
    {
     "data": {
      "image/png": "[encoded data removed]",
      "text/plain": [
       "<Figure size 432x288 with 1 Axes>"
      ]
     },
     "metadata": {
      "needs_background": "light"
     },
     "output_type": "display_data"
    }
   ],
   "source": [
    "C4_truncated = X[X['C4'] != 0]['C4']\n",
    "C4_truncated.plot.hist()"
   ]
  },
  {
   "cell_type": "markdown",
   "metadata": {},
   "source": [
    "Still a lot of values really close to zero, let's see how C4 being above zero correlates with the dependent variable."
   ]
  },
  {
   "cell_type": "code",
   "execution_count": 31,
   "metadata": {},
   "outputs": [],
   "source": [
    "from scipy.stats import pearsonr\n",
    "pearsonr(X.iloc[:train_shape[0],:]['C4']>0,y)"
   ]
  },
  {
   "cell_type": "markdown",
   "metadata": {},
   "source": [
    "Seems to be pretty strong actually. One solution is to replace zero valued standard deviations with one to avoid the standardised deviation being blown up to infinity. I'm not sure if this is a good idea, but I'm also not sure what other solutions are plausible."
   ]
  },
  {
   "cell_type": "code",
   "execution_count": 48,
   "metadata": {},
   "outputs": [
    {
     "data": {
      "text/html": [
       "<div>\n",
       "<style scoped>\n",
       "    .dataframe tbody tr th:only-of-type {\n",
       "        vertical-align: middle;\n",
       "    }\n",
       "\n",
       "    .dataframe tbody tr th {\n",
       "        vertical-align: top;\n",
       "    }\n",
       "\n",
       "    .dataframe thead th {\n",
       "        text-align: right;\n",
       "    }\n",
       "</style>\n",
       "<table border=\"1\" class=\"dataframe\">\n",
       "  <thead>\n",
       "    <tr style=\"text-align: right;\">\n",
       "      <th></th>\n",
       "      <th>std</th>\n",
       "    </tr>\n",
       "    <tr>\n",
       "      <th>M5</th>\n",
       "      <th></th>\n",
       "    </tr>\n",
       "  </thead>\n",
       "  <tbody>\n",
       "    <tr>\n",
       "      <th>F</th>\n",
       "      <td>1.000000</td>\n",
       "    </tr>\n",
       "    <tr>\n",
       "      <th>NaN</th>\n",
       "      <td>74.699614</td>\n",
       "    </tr>\n",
       "    <tr>\n",
       "      <th>T</th>\n",
       "      <td>1.000000</td>\n",
       "    </tr>\n",
       "  </tbody>\n",
       "</table>\n",
       "</div>"
      ],
      "text/plain": [
       "           std\n",
       "M5            \n",
       "F     1.000000\n",
       "NaN  74.699614\n",
       "T     1.000000"
      ]
     },
     "execution_count": 48,
     "metadata": {},
     "output_type": "execute_result"
    }
   ],
   "source": [
    "stds_temp = X.groupby('M5')['C4'].agg(['std'])\n",
    "stds_temp = stds_temp.replace(0,1)\n",
    "stds_temp"
   ]
  },
  {
   "cell_type": "code",
   "execution_count": 49,
   "metadata": {},
   "outputs": [],
   "source": [
    "def feature_creation(categorical, numerical, method, df):\n",
    "    \n",
    "    #Creating some features by default because they will probably be needed anyway\n",
    "    means_temp = df.groupby(categorical)[numerical].agg(['mean']).to_dict()\n",
    "    means = df[categorical].map(means_temp['mean'])\n",
    "    \n",
    "    stds_temp = df.groupby(categorical)[numerical].agg(['std']).replace(0,1).to_dict()\n",
    "    stds = df[categorical].map(stds_temp['std'])\n",
    "    \n",
    "    \n",
    "    if method == 'counts':\n",
    "        counts_temp = df[categorical].value_counts().to_dict()\n",
    "        counts = df[categorical].map(counts_temp)\n",
    "        return(counts)\n",
    "    \n",
    "    if method == 'means':\n",
    "        return(means)\n",
    "    \n",
    "    if method == 'stds':\n",
    "        return(stds)\n",
    "    \n",
    "    if method == \"devs\":\n",
    "        devs = df[numerical] - means\n",
    "        return(devs)\n",
    "    \n",
    "    if method == \"std_devs\":\n",
    "        devs = df[numerical] - means\n",
    "        std_devs = devs/stds\n",
    "        return(std_devs)"
   ]
  },
  {
   "cell_type": "markdown",
   "metadata": {},
   "source": [
    "That should fix it, let's double check though."
   ]
  },
  {
   "cell_type": "code",
   "execution_count": 50,
   "metadata": {},
   "outputs": [
    {
     "name": "stdout",
     "output_type": "stream",
     "text": [
      "['M6', 'C1', 'std_devs']\n",
      "['M4', 'V198', 'devs']\n",
      "['ProductCD', 'V63', 'means']\n",
      "['R_emaildomain', 'V108', 'means']\n",
      "['R_emaildomain', 'V129', 'std_devs']\n",
      "['R_emaildomain', 'V129', 'devs']\n",
      "['R_emaildomain', 'V58', 'means']\n",
      "['R_emaildomain', 'V276', 'stds']\n",
      "['M4', 'V188', 'means']\n",
      "['M4', 'V198', 'std_devs']\n",
      "['M5', 'C4', 'std_devs']\n",
      "['M6', 'V278', 'std_devs']\n"
     ]
    },
    {
     "data": {
      "text/plain": [
       "0"
      ]
     },
     "execution_count": 50,
     "metadata": {},
     "output_type": "execute_result"
    }
   ],
   "source": [
    "new_features = feature_aggregation_creation(combinations, X)\n",
    "new_features.isna().sum().sum()"
   ]
  },
  {
   "cell_type": "markdown",
   "metadata": {},
   "source": [
    "Wonderful! Let's finish the rest of the preprocessing."
   ]
  },
  {
   "cell_type": "code",
   "execution_count": 51,
   "metadata": {},
   "outputs": [],
   "source": [
    "#Adding them to our existing features\n",
    "X = pd.concat([X,new_features], axis =1)\n",
    "\n",
    "#Importing rankings of features based off of permutation importance\n",
    "\n",
    "numerics_rankings = pd.read_csv('Data/numerics_rankings.csv')\n",
    "\n",
    "#Gettingvariables to drop\n",
    "weak_numerics = numerics_rankings[numerics_rankings['weight'] <=0]\n",
    "weak_numerics_names = weak_numerics['feature'].tolist()\n",
    "\n",
    "#Dropping them\n",
    "X.drop(weak_numerics_names,axis=1,inplace=True)"
   ]
  },
  {
   "cell_type": "code",
   "execution_count": 52,
   "metadata": {},
   "outputs": [],
   "source": [
    "#Converting strings to dummies, I couldn't do this before as I needed them as categorical values to create the aggregations\n",
    "strings = X.select_dtypes(include = 'object')\n",
    "numerics = X.select_dtypes(exclude= 'object')\n",
    "\n",
    "del X\n",
    "\n",
    "dummies = encoded = strings.apply(LabelEncoder().fit_transform)\n",
    "del strings\n",
    "\n",
    "X = pd.concat([numerics, dummies], axis =1)\n",
    "del numerics"
   ]
  },
  {
   "cell_type": "code",
   "execution_count": 53,
   "metadata": {},
   "outputs": [],
   "source": [
    "X_train = X.iloc[:train_shape[0],:]\n",
    "X_test = X.iloc[train_shape[0]:,:]\n",
    "\n",
    "train = pd.concat([y,X_train],axis=1)\n",
    "train.to_csv('Data/train_preprocessed_1.csv',index=False)\n",
    "X_test.to_csv('Data/test_preprocessed_1.csv', index=False)"
   ]
  }
 ],
 "metadata": {
  "kernelspec": {
   "display_name": "Python 3",
   "language": "python",
   "name": "python3"
  },
  "language_info": {
   "codemirror_mode": {
    "name": "ipython",
    "version": 3
   },
   "file_extension": ".py",
   "mimetype": "text/x-python",
   "name": "python",
   "nbconvert_exporter": "python",
   "pygments_lexer": "ipython3",
   "version": "3.7.3"
  }
 },
 "nbformat": 4,
 "nbformat_minor": 2
}
