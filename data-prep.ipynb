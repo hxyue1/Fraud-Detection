{
 "cells": [
  {
   "cell_type": "markdown",
   "metadata": {},
   "source": [
    "I've explored Random Forests pretty thoroughly, I'm now going to experiment with using the xgboost implementation of gradient boosting. At this point in time, my initial data pre-processing isn't going to be particular sophisticated. I'll use pd.get_dummies to convert categorical variables into dummies and use random shuffling and forward filling to deal with NAs. Depending on how bloated the data preprocessing becomes, I may have to do this using AWS"
   ]
  },
  {
   "cell_type": "code",
   "execution_count": 1,
   "metadata": {},
   "outputs": [],
   "source": [
    "import pandas as pd\n",
    "import numpy as np\n",
    "import xgboost as xgb\n",
    "import time\n",
    "\n",
    "from sklearn.model_selection import train_test_split\n",
    "from sklearn.metrics import roc_auc_score"
   ]
  },
  {
   "cell_type": "code",
   "execution_count": 2,
   "metadata": {},
   "outputs": [
    {
     "name": "stdout",
     "output_type": "stream",
     "text": [
      "(590540, 394) (506691, 393) 126.07266283035278\n"
     ]
    }
   ],
   "source": [
    "#Importing data\n",
    "\n",
    "t0 = time.time()\n",
    "\n",
    "train = pd.read_csv('Data/train_transaction.csv')\n",
    "test = pd.read_csv('Data/test_transaction.csv')\n",
    "\n",
    "train_shape = train.shape\n",
    "test_shape = test.shape\n",
    "\n",
    "t1 = time.time()\n",
    "\n",
    "print(train_shape, test_shape, t1-t0)"
   ]
  },
  {
   "cell_type": "code",
   "execution_count": 3,
   "metadata": {},
   "outputs": [],
   "source": [
    "#Creating function to deal with NAs by shuffling and forward filling.\n",
    "\n",
    "def ffill(df):\n",
    "    \n",
    "    t0 = time.time()\n",
    "    \n",
    "    na_count = df.isna().sum().sum()\n",
    "    while na_count>0:\n",
    "        df = df.sample(frac=1)\n",
    "        df = df.fillna(method='ffill',limit=10)\n",
    "        na_count = df.isna().sum().sum()\n",
    "\n",
    "    \n",
    "    df = df.sort_index()\n",
    "    t1 = time.time()\n",
    "\n",
    "    return(df)\n",
    "    print(t1-t0)"
   ]
  },
  {
   "cell_type": "code",
   "execution_count": 6,
   "metadata": {},
   "outputs": [
    {
     "name": "stdout",
     "output_type": "stream",
     "text": [
      "31.376667737960815\n"
     ]
    }
   ],
   "source": [
    "t0 = time.time()\n",
    "\n",
    "#Storing dependent variable\n",
    "fraud = train['isFraud']\n",
    "train = train.drop('isFraud',axis =1)\n",
    "\n",
    "#Stacking training and test design matrices to extract dummies\n",
    "X = pd.concat([train,test], ignore_index=True)\n",
    "\n",
    "del train, test\n",
    "\n",
    "t1 = time.time()\n",
    "\n",
    "\n",
    "print(t1-t0)"
   ]
  },
  {
   "cell_type": "code",
   "execution_count": 7,
   "metadata": {},
   "outputs": [
    {
     "name": "stdout",
     "output_type": "stream",
     "text": [
      "30.266950130462646\n"
     ]
    }
   ],
   "source": [
    "t0 = time.time()\n",
    "\n",
    "strings = X.select_dtypes(include='object')\n",
    "dummies = pd.get_dummies(strings)\n",
    "\n",
    "del strings\n",
    "\n",
    "t1 = time.time()\n",
    "\n",
    "print(t1-t0)"
   ]
  },
  {
   "cell_type": "code",
   "execution_count": 8,
   "metadata": {},
   "outputs": [
    {
     "name": "stdout",
     "output_type": "stream",
     "text": [
      "300.03569412231445 (1097231, 379)\n"
     ]
    }
   ],
   "source": [
    "t0 = time.time()\n",
    "\n",
    "numerics = X.select_dtypes(exclude='object')\n",
    "numerics = ffill(numerics)\n",
    "\n",
    "t1 = time.time()\n",
    "\n",
    "print(t1-t0, numerics.shape)"
   ]
  },
  {
   "cell_type": "code",
   "execution_count": 9,
   "metadata": {},
   "outputs": [
    {
     "name": "stdout",
     "output_type": "stream",
     "text": [
      "(1097231, 531)\n"
     ]
    }
   ],
   "source": [
    "X = pd.concat([numerics, dummies], axis=1)\n",
    "\n",
    "print(X.shape)"
   ]
  },
  {
   "cell_type": "code",
   "execution_count": 10,
   "metadata": {},
   "outputs": [
    {
     "name": "stdout",
     "output_type": "stream",
     "text": [
      "32.70745396614075\n"
     ]
    }
   ],
   "source": [
    "t0 = time.time()\n",
    "\n",
    "X_train = X.iloc[:train_shape[0],:]\n",
    "X_test = X.iloc[train_shape[0]:,:]\n",
    "\n",
    "t1 = time.time()\n",
    "\n",
    "print(t1-t0)\n",
    "\n",
    "del X"
   ]
  },
  {
   "cell_type": "markdown",
   "metadata": {},
   "source": [
    "I'm deleting a lot variables here because I need to be efficient in my RAM usage. I also use a crude timer to check where bottlenecks are."
   ]
  },
  {
   "cell_type": "code",
   "execution_count": 11,
   "metadata": {},
   "outputs": [
    {
     "ename": "NameError",
     "evalue": "name 'test' is not defined",
     "output_type": "error",
     "traceback": [
      "\u001b[0;31m---------------------------------------------------------------------------\u001b[0m",
      "\u001b[0;31mNameError\u001b[0m                                 Traceback (most recent call last)",
      "\u001b[0;32m<ipython-input-11-7ab63466cb21>\u001b[0m in \u001b[0;36m<module>\u001b[0;34m\u001b[0m\n\u001b[1;32m      2\u001b[0m \u001b[0;34m\u001b[0m\u001b[0m\n\u001b[1;32m      3\u001b[0m \u001b[0mtrain\u001b[0m\u001b[0;34m.\u001b[0m\u001b[0mto_csv\u001b[0m\u001b[0;34m(\u001b[0m\u001b[0;34m'Data/train.csv'\u001b[0m\u001b[0;34m,\u001b[0m \u001b[0mindex\u001b[0m\u001b[0;34m=\u001b[0m\u001b[0;32mFalse\u001b[0m\u001b[0;34m)\u001b[0m\u001b[0;34m\u001b[0m\u001b[0;34m\u001b[0m\u001b[0m\n\u001b[0;32m----> 4\u001b[0;31m \u001b[0mtest\u001b[0m\u001b[0;34m.\u001b[0m\u001b[0mto_csv\u001b[0m\u001b[0;34m(\u001b[0m\u001b[0;34m'Data/test.csv'\u001b[0m\u001b[0;34m,\u001b[0m \u001b[0mindex\u001b[0m\u001b[0;34m=\u001b[0m\u001b[0;32mFalse\u001b[0m\u001b[0;34m)\u001b[0m\u001b[0;34m\u001b[0m\u001b[0;34m\u001b[0m\u001b[0m\n\u001b[0m",
      "\u001b[0;31mNameError\u001b[0m: name 'test' is not defined"
     ]
    }
   ],
   "source": [
    "train = pd.concat([fraud, X_train], axis=1)\n",
    "\n",
    "train.to_csv('Data/train.csv', index=False)\n",
    "X_test.to_csv('Data/test.csv', index=False)"
   ]
  },
  {
   "cell_type": "code",
   "execution_count": 12,
   "metadata": {},
   "outputs": [],
   "source": [
    "X_test.to_csv('Data/test.csv', index=False)"
   ]
  }
 ],
 "metadata": {
  "kernelspec": {
   "display_name": "Python 3",
   "language": "python",
   "name": "python3"
  },
  "language_info": {
   "codemirror_mode": {
    "name": "ipython",
    "version": 3
   },
   "file_extension": ".py",
   "mimetype": "text/x-python",
   "name": "python",
   "nbconvert_exporter": "python",
   "pygments_lexer": "ipython3",
   "version": "3.7.3"
  }
 },
 "nbformat": 4,
 "nbformat_minor": 2
}
