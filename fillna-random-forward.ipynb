{
 "cells": [
  {
   "cell_type": "code",
   "execution_count": 9,
   "metadata": {},
   "outputs": [],
   "source": [
    "import pandas as pd\n",
    "import numpy as np\n",
    "import seaborn as sns\n",
    "from scipy.stats.stats import pearsonr\n",
    "import matplotlib.pyplot as plt\n",
    "pd.set_option('display.max_columns',None)\n",
    "train_identity = pd.read_csv('Data/train_identity.csv')\n",
    "train_transaction = pd.read_csv('Data/train_transaction.csv')"
   ]
  },
  {
   "cell_type": "code",
   "execution_count": 10,
   "metadata": {},
   "outputs": [],
   "source": [
    "#Separating identity data into strings and numerics\n",
    "identity_categorical = train_identity.select_dtypes(include='object')\n",
    "identity_numerics = train_identity.select_dtypes(exclude='object')\n",
    "\n",
    "#Getting dummies and joining back toegether with numerics\n",
    "identity_dummies = pd.get_dummies(identity_categorical, dummy_na = True)\n",
    "train_identity = pd.concat([identity_numerics, identity_dummies], axis=1)\n",
    "\n",
    "#Separating transaction data into strings and numerics\n",
    "transaction_categorical = train_transaction.select_dtypes(include='object')\n",
    "transaction_numerics = train_transaction.select_dtypes(exclude='object')\n",
    "\n",
    "#Getting dummies and joining back toegether with numerics\n",
    "transaction_dummies = pd.get_dummies(transaction_categorical, dummy_na = True)\n",
    "train_transaction = pd.concat([transaction_numerics, transaction_dummies], axis=1)"
   ]
  },
  {
   "cell_type": "markdown",
   "metadata": {},
   "source": [
    "In this notebook, I'm going to play around with an alternative way of filling the NaNs. Using the quantile approach seems to be too computationally burdensome. I'll try use a workaround by randomly shuffling the rows of the dataframe, using the forward fill method and repeating until all NaNs have been removed. I believe this will provide a faster way to randomly fill data."
   ]
  },
  {
   "cell_type": "code",
   "execution_count": 11,
   "metadata": {},
   "outputs": [
    {
     "name": "stdout",
     "output_type": "stream",
     "text": [
      "109.07085609436035\n"
     ]
    }
   ],
   "source": [
    "import time\n",
    "\n",
    "t0 = time.time()\n",
    "na_count = train_transaction.isna().sum().sum()\n",
    "while na_count>0:\n",
    "    train_transaction = train_transaction.sample(frac=1)\n",
    "    train_transaction = train_transaction.fillna(method='ffill',limit=10)\n",
    "    na_count = train_transaction.isna().sum().sum()\n",
    "\n",
    "train_transaction = train_transaction.sort_values(by=['TransactionID'])\n",
    "\n",
    "t1 = time.time()\n",
    "\n",
    "print(t1-t0)"
   ]
  },
  {
   "cell_type": "code",
   "execution_count": 12,
   "metadata": {},
   "outputs": [
    {
     "name": "stdout",
     "output_type": "stream",
     "text": [
      "V86                             0.206479\n",
      "V87                             0.205757\n",
      "V45                             0.199827\n",
      "V44                             0.184848\n",
      "V52                             0.170547\n",
      "ProductCD_C                     0.161442\n",
      "V79                             0.158742\n",
      "V51                             0.158580\n",
      "V94                             0.154554\n",
      "V33                             0.154109\n",
      "V17                             0.153773\n",
      "card3                           0.153724\n",
      "V18                             0.153644\n",
      "V74                             0.153253\n",
      "V34                             0.151538\n",
      "V40                             0.150856\n",
      "R_emaildomain_gmail.com         0.149974\n",
      "V15                             0.149480\n",
      "V81                             0.148887\n",
      "V93                             0.147949\n",
      "V92                             0.147882\n",
      "V80                             0.147722\n",
      "V16                             0.146446\n",
      "M4_M2                           0.143940\n",
      "V39                             0.143531\n",
      "V73                             0.143325\n",
      "V58                             0.142449\n",
      "V43                             0.141128\n",
      "R_emaildomain_nan               0.140127\n",
      "V38                             0.139567\n",
      "                                  ...   \n",
      "V183                            0.000813\n",
      "V280                            0.000779\n",
      "P_emaildomain_frontier.com      0.000761\n",
      "R_emaildomain_sc.rr.com         0.000701\n",
      "dist2                           0.000669\n",
      "D14                             0.000590\n",
      "V88                             0.000550\n",
      "R_emaildomain_rocketmail.com    0.000499\n",
      "V305                            0.000496\n",
      "V327                            0.000446\n",
      "P_emaildomain_mac.com           0.000426\n",
      "R_emaildomain_ymail.com         0.000373\n",
      "V241                            0.000357\n",
      "R_emaildomain_charter.net       0.000350\n",
      "V299                            0.000309\n",
      "R_emaildomain_aim.com           0.000306\n",
      "V215                            0.000299\n",
      "V135                            0.000283\n",
      "M2_F                            0.000185\n",
      "R_emaildomain_suddenlink.net    0.000177\n",
      "V137                            0.000126\n",
      "R_emaildomain_yahoo.fr          0.000125\n",
      "V1                              0.000064\n",
      "V319                            0.000060\n",
      "R_emaildomain_aol.com           0.000058\n",
      "V136                            0.000056\n",
      "P_emaildomain_embarqmail.com    0.000043\n",
      "R_emaildomain_yahoo.es          0.000005\n",
      "P_emaildomain_yahoo.fr          0.000002\n",
      "ProductCD_nan                        NaN\n",
      "Length: 543, dtype: float64\n"
     ]
    }
   ],
   "source": [
    "corrs = train_transaction.iloc[:,2:].corrwith(train_transaction['isFraud'])\n",
    "print(abs(corrs).sort_values(ascending=False))"
   ]
  },
  {
   "cell_type": "code",
   "execution_count": 8,
   "metadata": {},
   "outputs": [
    {
     "name": "stdout",
     "output_type": "stream",
     "text": [
      "V86                             0.210023\n",
      "V87                             0.207766\n",
      "V45                             0.197757\n",
      "V44                             0.183268\n",
      "V52                             0.169442\n",
      "ProductCD_C                     0.161442\n",
      "V79                             0.158838\n",
      "V51                             0.158107\n",
      "V94                             0.154913\n",
      "V33                             0.154563\n",
      "V74                             0.154125\n",
      "card3                           0.153794\n",
      "V17                             0.153655\n",
      "V18                             0.153491\n",
      "V34                             0.151994\n",
      "V81                             0.150182\n",
      "R_emaildomain_gmail.com         0.149974\n",
      "V40                             0.149932\n",
      "V15                             0.149577\n",
      "V80                             0.148586\n",
      "V92                             0.148316\n",
      "V93                             0.148240\n",
      "V16                             0.146455\n",
      "V73                             0.144206\n",
      "M4_M2                           0.143940\n",
      "V39                             0.143918\n",
      "V58                             0.143369\n",
      "V38                             0.141449\n",
      "V43                             0.140223\n",
      "R_emaildomain_nan               0.140127\n",
      "                                  ...   \n",
      "R_emaildomain_sc.rr.com         0.000701\n",
      "V327                            0.000698\n",
      "V322                            0.000649\n",
      "R_emaildomain_rocketmail.com    0.000499\n",
      "V305                            0.000496\n",
      "V216                            0.000437\n",
      "P_emaildomain_mac.com           0.000426\n",
      "R_emaildomain_ymail.com         0.000373\n",
      "R_emaildomain_charter.net       0.000350\n",
      "V326                            0.000337\n",
      "V299                            0.000309\n",
      "R_emaildomain_aim.com           0.000306\n",
      "V135                            0.000289\n",
      "V1                              0.000269\n",
      "V223                            0.000237\n",
      "V210                            0.000189\n",
      "M2_F                            0.000185\n",
      "R_emaildomain_suddenlink.net    0.000177\n",
      "V137                            0.000128\n",
      "R_emaildomain_yahoo.fr          0.000125\n",
      "V224                            0.000067\n",
      "V319                            0.000060\n",
      "R_emaildomain_aol.com           0.000058\n",
      "V136                            0.000044\n",
      "P_emaildomain_embarqmail.com    0.000043\n",
      "V175                            0.000028\n",
      "V328                            0.000015\n",
      "R_emaildomain_yahoo.es          0.000005\n",
      "P_emaildomain_yahoo.fr          0.000002\n",
      "ProductCD_nan                        NaN\n",
      "Length: 543, dtype: float64\n"
     ]
    }
   ],
   "source": [
    "print(abs(corrs).sort_values(ascending=False))"
   ]
  },
  {
   "cell_type": "code",
   "execution_count": 43,
   "metadata": {},
   "outputs": [
    {
     "name": "stdout",
     "output_type": "stream",
     "text": [
      "0 34.564347982406616\n"
     ]
    }
   ],
   "source": [
    "t0 = time.time()\n",
    "\n",
    "train_transaction = train_transaction.sample(frac=1)\n",
    "train_transaction = train_transaction.fillna(method='ffill',limit=10)\n",
    "na_count = train_transaction.isna().sum().sum()\n",
    "\n",
    "t1 = time.time()\n",
    "\n",
    "print(na_count,t1-t0)"
   ]
  },
  {
   "cell_type": "code",
   "execution_count": null,
   "metadata": {},
   "outputs": [],
   "source": [
    "any(train_transaction.isna())"
   ]
  },
  {
   "cell_type": "code",
   "execution_count": 47,
   "metadata": {},
   "outputs": [
    {
     "data": {
      "text/plain": [
       "0"
      ]
     },
     "execution_count": 47,
     "metadata": {},
     "output_type": "execute_result"
    }
   ],
   "source": [
    "na_count"
   ]
  },
  {
   "cell_type": "code",
   "execution_count": null,
   "metadata": {},
   "outputs": [],
   "source": []
  }
 ],
 "metadata": {
  "kernelspec": {
   "display_name": "Python 3",
   "language": "python",
   "name": "python3"
  },
  "language_info": {
   "codemirror_mode": {
    "name": "ipython",
    "version": 3
   },
   "file_extension": ".py",
   "mimetype": "text/x-python",
   "name": "python",
   "nbconvert_exporter": "python",
   "pygments_lexer": "ipython3",
   "version": "3.7.3"
  }
 },
 "nbformat": 4,
 "nbformat_minor": 2
}
