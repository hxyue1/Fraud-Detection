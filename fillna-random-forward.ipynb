{
 "cells": [
  {
   "cell_type": "code",
   "execution_count": 48,
   "metadata": {},
   "outputs": [],
   "source": [
    "import pandas as pd\n",
    "import numpy as np\n",
    "import seaborn as sns\n",
    "from scipy.stats.stats import pearsonr\n",
    "import matplotlib.pyplot as plt\n",
    "pd.set_option('display.max_columns',None)\n",
    "train_identity = pd.read_csv('Data/train_identity.csv')\n",
    "train_transaction = pd.read_csv('Data/train_transaction.csv')"
   ]
  },
  {
   "cell_type": "code",
   "execution_count": 49,
   "metadata": {},
   "outputs": [],
   "source": [
    "#Separating identity data into strings and numerics\n",
    "identity_categorical = train_identity.select_dtypes(include='object')\n",
    "identity_numerics = train_identity.select_dtypes(exclude='object')\n",
    "\n",
    "#Getting dummies and joining back toegether with numerics\n",
    "identity_dummies = pd.get_dummies(identity_categorical, dummy_na = True)\n",
    "train_identity = pd.concat([identity_numerics, identity_dummies], axis=1)\n",
    "\n",
    "#Separating transaction data into strings and numerics\n",
    "transaction_categorical = train_transaction.select_dtypes(include='object')\n",
    "transaction_numerics = train_transaction.select_dtypes(exclude='object')\n",
    "\n",
    "#Getting dummies and joining back toegether with numerics\n",
    "transaction_dummies = pd.get_dummies(transaction_categorical, dummy_na = True)\n",
    "train_transaction = pd.concat([transaction_numerics, transaction_dummies], axis=1)"
   ]
  },
  {
   "cell_type": "markdown",
   "metadata": {},
   "source": [
    "In this notebook, I'm going to play around with an alternative way of filling the NaNs. Using the quantile approach seems to be too computationally burdensome. I'll try use a workaround by randomly shuffling the rows of the dataframe, using the forward fill method and repeating until all NaNs have been removed. I believe this will provide a faster way to randomly fill data."
   ]
  },
  {
   "cell_type": "code",
   "execution_count": 50,
   "metadata": {},
   "outputs": [
    {
     "name": "stdout",
     "output_type": "stream",
     "text": [
      "22.629579067230225\n"
     ]
    }
   ],
   "source": [
    "import time\n",
    "\n",
    "t0 = time.time()\n",
    "\n",
    "while na_count>0:\n",
    "    train_transaction = train_transaction.sample(frac=1)\n",
    "    train_transaction = train_transaction.fillna(method='ffill',limit=10)\n",
    "    na_count = train_transaction.isna().sum().sum()\n",
    "\n",
    "train_transaction = train_transaction.sort_values(by=['TransactionID'])\n",
    "\n",
    "t1 = time.time()\n",
    "\n",
    "print(t1-t0)"
   ]
  },
  {
   "cell_type": "code",
   "execution_count": 43,
   "metadata": {},
   "outputs": [
    {
     "name": "stdout",
     "output_type": "stream",
     "text": [
      "0 34.564347982406616\n"
     ]
    }
   ],
   "source": [
    "t0 = time.time()\n",
    "\n",
    "train_transaction = train_transaction.sample(frac=1)\n",
    "train_transaction = train_transaction.fillna(method='ffill',limit=10)\n",
    "na_count = train_transaction.isna().sum().sum()\n",
    "\n",
    "t1 = time.time()\n",
    "\n",
    "print(na_count,t1-t0)"
   ]
  },
  {
   "cell_type": "code",
   "execution_count": null,
   "metadata": {},
   "outputs": [],
   "source": [
    "any(train_transaction.isna())"
   ]
  },
  {
   "cell_type": "code",
   "execution_count": 47,
   "metadata": {},
   "outputs": [
    {
     "data": {
      "text/plain": [
       "0"
      ]
     },
     "execution_count": 47,
     "metadata": {},
     "output_type": "execute_result"
    }
   ],
   "source": [
    "na_count"
   ]
  },
  {
   "cell_type": "code",
   "execution_count": null,
   "metadata": {},
   "outputs": [],
   "source": []
  }
 ],
 "metadata": {
  "kernelspec": {
   "display_name": "Python 3",
   "language": "python",
   "name": "python3"
  },
  "language_info": {
   "codemirror_mode": {
    "name": "ipython",
    "version": 3
   },
   "file_extension": ".py",
   "mimetype": "text/x-python",
   "name": "python",
   "nbconvert_exporter": "python",
   "pygments_lexer": "ipython3",
   "version": "3.7.3"
  }
 },
 "nbformat": 4,
 "nbformat_minor": 2
}
