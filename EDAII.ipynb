{
 "cells": [
  {
   "cell_type": "markdown",
   "metadata": {},
   "source": [
    "We begin Phase III through the replication of the winning solution by Chris Detotte and Konstatin Yalenkov. The first step will be a more mature EDA, we will first follow alijs' notebook as Chris uses it as the basis of their analysis, and then replicate the innovations that Chris makes.\n",
    "\n",
    "Link to alijs' EDA notebook: https://www.kaggle.com/alijs1/ieee-transaction-columns-reference\n",
    "\n",
    "Link to Chris' EDA notebook: https://www.kaggle.com/cdeotte/eda-for-columns-v-and-id"
   ]
  },
  {
   "cell_type": "code",
   "execution_count": null,
   "metadata": {},
   "outputs": [],
   "source": []
  }
 ],
 "metadata": {
  "kernelspec": {
   "display_name": "Python 3",
   "language": "python",
   "name": "python3"
  },
  "language_info": {
   "codemirror_mode": {
    "name": "ipython",
    "version": 3
   },
   "file_extension": ".py",
   "mimetype": "text/x-python",
   "name": "python",
   "nbconvert_exporter": "python",
   "pygments_lexer": "ipython3",
   "version": "3.7.3"
  }
 },
 "nbformat": 4,
 "nbformat_minor": 2
}
